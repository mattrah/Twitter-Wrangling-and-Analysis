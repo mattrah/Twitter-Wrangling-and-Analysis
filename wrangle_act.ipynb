{
 "cells": [
  {
   "cell_type": "markdown",
   "metadata": {},
   "source": [
    "# We Rate Dogs (Twitter)\n",
    "\n"
   ]
  },
  {
   "cell_type": "markdown",
   "metadata": {},
   "source": [
    "## Table of Contents\n",
    "\n",
    "- [Gather](#gather)\n",
    "  - [Import CSV Data File](#csv)\n",
    "  - [Download Data using Requests](#requests)\n",
    "  - [Download from Twitter API](#api)\n",
    "- [Assess](#assess)\n",
    "   - [Issues Summary](#issue_sum)\n",
    "- [Clean](#clean)\n",
    "- [Store](#store)\n",
    "- [Analysing and Visualising](#analyse)\n",
    "  "
   ]
  },
  {
   "cell_type": "markdown",
   "metadata": {},
   "source": [
    "The first step is to import all the necessary libraries."
   ]
  },
  {
   "cell_type": "code",
   "execution_count": 1,
   "metadata": {},
   "outputs": [],
   "source": [
    "import pandas as pd\n",
    "import numpy as np\n",
    "import requests\n",
    "import tweepy as tw\n",
    "import json\n",
    "import matplotlib.pyplot as plt\n",
    "import seaborn as sns\n",
    "\n",
    "%matplotlib inline"
   ]
  },
  {
   "cell_type": "markdown",
   "metadata": {},
   "source": [
    "//////////////////////////////////////////////////////////////////////////////////////////////////////////////////////////////////////////////////////////////////////////////////////////////////////////////////////////////////////////////////////////////\n",
    "<a id='gather'></a>\n",
    "## Gather\n",
    "<a id='csv'></a>\n",
    "### Import CSV Data File\n",
    "The WeRateDogs Twitter archive is stored in a csv file which should be imported."
   ]
  },
  {
   "cell_type": "code",
   "execution_count": 2,
   "metadata": {},
   "outputs": [],
   "source": [
    "archive=pd.read_csv('twitter-archive-enhanced.csv')"
   ]
  },
  {
   "cell_type": "code",
   "execution_count": 5,
   "metadata": {
    "scrolled": true
   },
   "outputs": [
    {
     "data": {
      "text/html": [
       "<div>\n",
       "<style scoped>\n",
       "    .dataframe tbody tr th:only-of-type {\n",
       "        vertical-align: middle;\n",
       "    }\n",
       "\n",
       "    .dataframe tbody tr th {\n",
       "        vertical-align: top;\n",
       "    }\n",
       "\n",
       "    .dataframe thead th {\n",
       "        text-align: right;\n",
       "    }\n",
       "</style>\n",
       "<table border=\"1\" class=\"dataframe\">\n",
       "  <thead>\n",
       "    <tr style=\"text-align: right;\">\n",
       "      <th></th>\n",
       "      <th>tweet_id</th>\n",
       "      <th>in_reply_to_status_id</th>\n",
       "      <th>in_reply_to_user_id</th>\n",
       "      <th>timestamp</th>\n",
       "      <th>source</th>\n",
       "      <th>text</th>\n",
       "      <th>retweeted_status_id</th>\n",
       "      <th>retweeted_status_user_id</th>\n",
       "      <th>retweeted_status_timestamp</th>\n",
       "      <th>expanded_urls</th>\n",
       "      <th>rating_numerator</th>\n",
       "      <th>rating_denominator</th>\n",
       "      <th>name</th>\n",
       "      <th>doggo</th>\n",
       "      <th>floofer</th>\n",
       "      <th>pupper</th>\n",
       "      <th>puppo</th>\n",
       "    </tr>\n",
       "  </thead>\n",
       "  <tbody>\n",
       "    <tr>\n",
       "      <th>2350</th>\n",
       "      <td>666050758794694657</td>\n",
       "      <td>NaN</td>\n",
       "      <td>NaN</td>\n",
       "      <td>2015-11-16 00:30:50 +0000</td>\n",
       "      <td>&lt;a href=\"http://twitter.com/download/iphone\" r...</td>\n",
       "      <td>This is a truly beautiful English Wilson Staff...</td>\n",
       "      <td>NaN</td>\n",
       "      <td>NaN</td>\n",
       "      <td>NaN</td>\n",
       "      <td>https://twitter.com/dog_rates/status/666050758...</td>\n",
       "      <td>10</td>\n",
       "      <td>10</td>\n",
       "      <td>a</td>\n",
       "      <td>None</td>\n",
       "      <td>None</td>\n",
       "      <td>None</td>\n",
       "      <td>None</td>\n",
       "    </tr>\n",
       "    <tr>\n",
       "      <th>1414</th>\n",
       "      <td>698710712454139905</td>\n",
       "      <td>NaN</td>\n",
       "      <td>NaN</td>\n",
       "      <td>2016-02-14 03:29:49 +0000</td>\n",
       "      <td>&lt;a href=\"http://twitter.com/download/iphone\" r...</td>\n",
       "      <td>This is Cuddles. He's not entirely sure how do...</td>\n",
       "      <td>NaN</td>\n",
       "      <td>NaN</td>\n",
       "      <td>NaN</td>\n",
       "      <td>https://twitter.com/dog_rates/status/698710712...</td>\n",
       "      <td>10</td>\n",
       "      <td>10</td>\n",
       "      <td>Cuddles</td>\n",
       "      <td>None</td>\n",
       "      <td>None</td>\n",
       "      <td>None</td>\n",
       "      <td>None</td>\n",
       "    </tr>\n",
       "  </tbody>\n",
       "</table>\n",
       "</div>"
      ],
      "text/plain": [
       "                tweet_id  in_reply_to_status_id  in_reply_to_user_id  \\\n",
       "2350  666050758794694657                    NaN                  NaN   \n",
       "1414  698710712454139905                    NaN                  NaN   \n",
       "\n",
       "                      timestamp  \\\n",
       "2350  2015-11-16 00:30:50 +0000   \n",
       "1414  2016-02-14 03:29:49 +0000   \n",
       "\n",
       "                                                 source  \\\n",
       "2350  <a href=\"http://twitter.com/download/iphone\" r...   \n",
       "1414  <a href=\"http://twitter.com/download/iphone\" r...   \n",
       "\n",
       "                                                   text  retweeted_status_id  \\\n",
       "2350  This is a truly beautiful English Wilson Staff...                  NaN   \n",
       "1414  This is Cuddles. He's not entirely sure how do...                  NaN   \n",
       "\n",
       "      retweeted_status_user_id retweeted_status_timestamp  \\\n",
       "2350                       NaN                        NaN   \n",
       "1414                       NaN                        NaN   \n",
       "\n",
       "                                          expanded_urls  rating_numerator  \\\n",
       "2350  https://twitter.com/dog_rates/status/666050758...                10   \n",
       "1414  https://twitter.com/dog_rates/status/698710712...                10   \n",
       "\n",
       "      rating_denominator     name doggo floofer pupper puppo  \n",
       "2350                  10        a  None    None   None  None  \n",
       "1414                  10  Cuddles  None    None   None  None  "
      ]
     },
     "execution_count": 5,
     "metadata": {},
     "output_type": "execute_result"
    }
   ],
   "source": [
    "archive.sample(2)"
   ]
  },
  {
   "cell_type": "markdown",
   "metadata": {},
   "source": [
    "<a id='request'></a>\n",
    "### Download Data using Requests\n",
    "The tweet image predictions, i.e., what breed of dog (or other object, animal, etc.) is present in each tweet according to a neural network. This file is hosted in the following URL: https://d17h27t6h515a5.cloudfront.net/topher/2017/August/599fd2ad_image-predictions/image-predictions.tsv"
   ]
  },
  {
   "cell_type": "code",
   "execution_count": 7,
   "metadata": {},
   "outputs": [],
   "source": [
    "url = 'https://d17h27t6h515a5.cloudfront.net/topher/2017/August/599fd2ad_image-predictions/image-predictions.tsv'\n",
    "response = requests.get(url)\n",
    "with open('tweet-image-predictions.tsv', mode = 'wb') as file:\n",
    "    file.write(response.content)"
   ]
  },
  {
   "cell_type": "code",
   "execution_count": 3,
   "metadata": {},
   "outputs": [],
   "source": [
    "images=pd.read_csv('tweet-image-predictions.tsv',delimiter='\\t')"
   ]
  },
  {
   "cell_type": "code",
   "execution_count": 20,
   "metadata": {
    "scrolled": true
   },
   "outputs": [
    {
     "data": {
      "text/html": [
       "<div>\n",
       "<style scoped>\n",
       "    .dataframe tbody tr th:only-of-type {\n",
       "        vertical-align: middle;\n",
       "    }\n",
       "\n",
       "    .dataframe tbody tr th {\n",
       "        vertical-align: top;\n",
       "    }\n",
       "\n",
       "    .dataframe thead th {\n",
       "        text-align: right;\n",
       "    }\n",
       "</style>\n",
       "<table border=\"1\" class=\"dataframe\">\n",
       "  <thead>\n",
       "    <tr style=\"text-align: right;\">\n",
       "      <th></th>\n",
       "      <th>tweet_id</th>\n",
       "      <th>jpg_url</th>\n",
       "      <th>img_num</th>\n",
       "      <th>p1</th>\n",
       "      <th>p1_conf</th>\n",
       "      <th>p1_dog</th>\n",
       "      <th>p2</th>\n",
       "      <th>p2_conf</th>\n",
       "      <th>p2_dog</th>\n",
       "      <th>p3</th>\n",
       "      <th>p3_conf</th>\n",
       "      <th>p3_dog</th>\n",
       "    </tr>\n",
       "  </thead>\n",
       "  <tbody>\n",
       "    <tr>\n",
       "      <th>0</th>\n",
       "      <td>666020888022790149</td>\n",
       "      <td>https://pbs.twimg.com/media/CT4udn0WwAA0aMy.jpg</td>\n",
       "      <td>1</td>\n",
       "      <td>Welsh_springer_spaniel</td>\n",
       "      <td>0.465074</td>\n",
       "      <td>True</td>\n",
       "      <td>collie</td>\n",
       "      <td>0.156665</td>\n",
       "      <td>True</td>\n",
       "      <td>Shetland_sheepdog</td>\n",
       "      <td>0.061428</td>\n",
       "      <td>True</td>\n",
       "    </tr>\n",
       "    <tr>\n",
       "      <th>1</th>\n",
       "      <td>666029285002620928</td>\n",
       "      <td>https://pbs.twimg.com/media/CT42GRgUYAA5iDo.jpg</td>\n",
       "      <td>1</td>\n",
       "      <td>redbone</td>\n",
       "      <td>0.506826</td>\n",
       "      <td>True</td>\n",
       "      <td>miniature_pinscher</td>\n",
       "      <td>0.074192</td>\n",
       "      <td>True</td>\n",
       "      <td>Rhodesian_ridgeback</td>\n",
       "      <td>0.072010</td>\n",
       "      <td>True</td>\n",
       "    </tr>\n",
       "  </tbody>\n",
       "</table>\n",
       "</div>"
      ],
      "text/plain": [
       "             tweet_id                                          jpg_url  \\\n",
       "0  666020888022790149  https://pbs.twimg.com/media/CT4udn0WwAA0aMy.jpg   \n",
       "1  666029285002620928  https://pbs.twimg.com/media/CT42GRgUYAA5iDo.jpg   \n",
       "\n",
       "   img_num                      p1   p1_conf  p1_dog                  p2  \\\n",
       "0        1  Welsh_springer_spaniel  0.465074    True              collie   \n",
       "1        1                 redbone  0.506826    True  miniature_pinscher   \n",
       "\n",
       "    p2_conf  p2_dog                   p3   p3_conf  p3_dog  \n",
       "0  0.156665    True    Shetland_sheepdog  0.061428    True  \n",
       "1  0.074192    True  Rhodesian_ridgeback  0.072010    True  "
      ]
     },
     "execution_count": 20,
     "metadata": {},
     "output_type": "execute_result"
    }
   ],
   "source": [
    "images.head(2)"
   ]
  },
  {
   "cell_type": "markdown",
   "metadata": {},
   "source": [
    "<a id='api'></a>\n",
    "### Download from Twitter API\n",
    "Each tweet's retweet count and favorite (\"like\") count at minimum, and any additional data you find interesting. Using the tweet IDs in the WeRateDogs Twitter archive, query the Twitter API for each tweet's JSON data using Python's Tweepy library and store each tweet's entire set of JSON data in a file called tweet_json.txt file. Each tweet's JSON data should be written to its own line. Then read this .txt file line by line into a pandas DataFrame with (at minimum) tweet ID, retweet count, and favorite count."
   ]
  },
  {
   "cell_type": "code",
   "execution_count": 21,
   "metadata": {},
   "outputs": [],
   "source": [
    "# consumer_key = ''\n",
    "# consumer_secret = ''\n",
    "# access_token = '-'\n",
    "# access_secret = ''\n",
    "\n",
    "auth = tw.OAuthHandler(consumer_key, consumer_secret)\n",
    "auth.set_access_token(access_token, access_secret)\n",
    "\n",
    "api = tw.API(auth, wait_on_rate_limit=True,wait_on_rate_limit_notify=True)\n"
   ]
  },
  {
   "cell_type": "code",
   "execution_count": 11,
   "metadata": {},
   "outputs": [
    {
     "data": {
      "text/plain": [
       "2356"
      ]
     },
     "execution_count": 11,
     "metadata": {},
     "output_type": "execute_result"
    }
   ],
   "source": [
    "archive.tweet_id.nunique()"
   ]
  },
  {
   "cell_type": "code",
   "execution_count": 12,
   "metadata": {},
   "outputs": [
    {
     "data": {
      "text/plain": [
       "2356"
      ]
     },
     "execution_count": 12,
     "metadata": {},
     "output_type": "execute_result"
    }
   ],
   "source": [
    "#List of tweet ids in arhive\n",
    "tw_ids=archive.tweet_id.values\n",
    "len(tw_ids)"
   ]
  },
  {
   "cell_type": "code",
   "execution_count": 22,
   "metadata": {
    "scrolled": true
   },
   "outputs": [],
   "source": [
    "# Query Twitter's API for JSON data for each tweet ID in the Twitter archive\n",
    "count = 0\n",
    "fails = {}\n",
    "# Save each tweet's returned JSON as a new line in tweet-json.txt file\n",
    "with open('tweet-json.txt', 'w') as outfile:\n",
    "    for tweet_id in tw_ids:\n",
    "        count += 1\n",
    "#         print(str(count) + \": \" + str(tweet_id))\n",
    "        try:\n",
    "            tweet = api.get_status(tweet_id, tweet_mode='extended')\n",
    "            print(\"Success\")\n",
    "            json.dump(tweet._json, outfile)\n",
    "            outfile.write('\\n')\n",
    "        except tw.TweepError as e:\n",
    "            print(\"Fail\")\n",
    "            fails[tweet_id] = e\n",
    "            pass\n",
    "print(fails)\n",
    "print(count)"
   ]
  },
  {
   "cell_type": "code",
   "execution_count": 4,
   "metadata": {},
   "outputs": [
    {
     "name": "stdout",
     "output_type": "stream",
     "text": [
      "{'created_at': 'Tue Aug 01 16:23:56 +0000 2017', 'id': 892420643555336193, 'id_str': '892420643555336193', 'full_text': \"This is Phineas. He's a mystical boy. Only ever appears in the hole of a donut. 13/10 https://t.co/MgUWQ76dJU\", 'truncated': False, 'display_text_range': [0, 85], 'entities': {'hashtags': [], 'symbols': [], 'user_mentions': [], 'urls': [], 'media': [{'id': 892420639486877696, 'id_str': '892420639486877696', 'indices': [86, 109], 'media_url': 'http://pbs.twimg.com/media/DGKD1-bXoAAIAUK.jpg', 'media_url_https': 'https://pbs.twimg.com/media/DGKD1-bXoAAIAUK.jpg', 'url': 'https://t.co/MgUWQ76dJU', 'display_url': 'pic.twitter.com/MgUWQ76dJU', 'expanded_url': 'https://twitter.com/dog_rates/status/892420643555336193/photo/1', 'type': 'photo', 'sizes': {'large': {'w': 540, 'h': 528, 'resize': 'fit'}, 'thumb': {'w': 150, 'h': 150, 'resize': 'crop'}, 'small': {'w': 540, 'h': 528, 'resize': 'fit'}, 'medium': {'w': 540, 'h': 528, 'resize': 'fit'}}}]}, 'extended_entities': {'media': [{'id': 892420639486877696, 'id_str': '892420639486877696', 'indices': [86, 109], 'media_url': 'http://pbs.twimg.com/media/DGKD1-bXoAAIAUK.jpg', 'media_url_https': 'https://pbs.twimg.com/media/DGKD1-bXoAAIAUK.jpg', 'url': 'https://t.co/MgUWQ76dJU', 'display_url': 'pic.twitter.com/MgUWQ76dJU', 'expanded_url': 'https://twitter.com/dog_rates/status/892420643555336193/photo/1', 'type': 'photo', 'sizes': {'large': {'w': 540, 'h': 528, 'resize': 'fit'}, 'thumb': {'w': 150, 'h': 150, 'resize': 'crop'}, 'small': {'w': 540, 'h': 528, 'resize': 'fit'}, 'medium': {'w': 540, 'h': 528, 'resize': 'fit'}}}]}, 'source': '<a href=\"http://twitter.com/download/iphone\" rel=\"nofollow\">Twitter for iPhone</a>', 'in_reply_to_status_id': None, 'in_reply_to_status_id_str': None, 'in_reply_to_user_id': None, 'in_reply_to_user_id_str': None, 'in_reply_to_screen_name': None, 'user': {'id': 4196983835, 'id_str': '4196983835', 'name': 'WeRateDogs™ (author)', 'screen_name': 'dog_rates', 'location': 'DM YOUR DOGS, WE WILL RATE', 'description': '#1 Source for Professional Dog Ratings | STORE: @ShopWeRateDogs | IG, FB & SC: WeRateDogs MOBILE APP: @GoodDogsGame | Business: dogratingtwitter@gmail.com', 'url': 'https://t.co/N7sNNHAEXS', 'entities': {'url': {'urls': [{'url': 'https://t.co/N7sNNHAEXS', 'expanded_url': 'http://weratedogs.com', 'display_url': 'weratedogs.com', 'indices': [0, 23]}]}, 'description': {'urls': []}}, 'protected': False, 'followers_count': 3200889, 'friends_count': 104, 'listed_count': 2784, 'created_at': 'Sun Nov 15 21:41:29 +0000 2015', 'favourites_count': 114031, 'utc_offset': None, 'time_zone': None, 'geo_enabled': True, 'verified': True, 'statuses_count': 5288, 'lang': 'en', 'contributors_enabled': False, 'is_translator': False, 'is_translation_enabled': False, 'profile_background_color': '000000', 'profile_background_image_url': 'http://abs.twimg.com/images/themes/theme1/bg.png', 'profile_background_image_url_https': 'https://abs.twimg.com/images/themes/theme1/bg.png', 'profile_background_tile': False, 'profile_image_url': 'http://pbs.twimg.com/profile_images/861415328504569856/R2xOOfwe_normal.jpg', 'profile_image_url_https': 'https://pbs.twimg.com/profile_images/861415328504569856/R2xOOfwe_normal.jpg', 'profile_banner_url': 'https://pbs.twimg.com/profile_banners/4196983835/1501129017', 'profile_link_color': 'F5ABB5', 'profile_sidebar_border_color': '000000', 'profile_sidebar_fill_color': '000000', 'profile_text_color': '000000', 'profile_use_background_image': False, 'has_extended_profile': True, 'default_profile': False, 'default_profile_image': False, 'following': True, 'follow_request_sent': False, 'notifications': False, 'translator_type': 'none'}, 'geo': None, 'coordinates': None, 'place': None, 'contributors': None, 'is_quote_status': False, 'retweet_count': 8853, 'favorite_count': 39467, 'favorited': False, 'retweeted': False, 'possibly_sensitive': False, 'possibly_sensitive_appealable': False, 'lang': 'en'}\n"
     ]
    }
   ],
   "source": [
    "with open('tweet-json.txt') as json_file:  \n",
    "    line = json_file.readline()\n",
    "    tweet = json.loads(line)\n",
    "print(tweet)"
   ]
  },
  {
   "cell_type": "code",
   "execution_count": 4,
   "metadata": {},
   "outputs": [],
   "source": [
    "jsons=pd.DataFrame(columns=['tweet_id', 'retweet_count', 'favorite_count'])\n",
    "with open('tweet-json.txt') as json_file:\n",
    "    for line in json_file:\n",
    "        tweet = json.loads(line)\n",
    "        jsons = jsons.append({'tweet_id': tweet['id'],'retweet_count': tweet['retweet_count'],\n",
    "                                      'favorite_count': tweet['favorite_count']}, ignore_index=True)\n",
    "        "
   ]
  },
  {
   "cell_type": "code",
   "execution_count": 191,
   "metadata": {},
   "outputs": [
    {
     "data": {
      "text/html": [
       "<div>\n",
       "<style scoped>\n",
       "    .dataframe tbody tr th:only-of-type {\n",
       "        vertical-align: middle;\n",
       "    }\n",
       "\n",
       "    .dataframe tbody tr th {\n",
       "        vertical-align: top;\n",
       "    }\n",
       "\n",
       "    .dataframe thead th {\n",
       "        text-align: right;\n",
       "    }\n",
       "</style>\n",
       "<table border=\"1\" class=\"dataframe\">\n",
       "  <thead>\n",
       "    <tr style=\"text-align: right;\">\n",
       "      <th></th>\n",
       "      <th>tweet_id</th>\n",
       "      <th>retweet_count</th>\n",
       "      <th>favorite_count</th>\n",
       "    </tr>\n",
       "  </thead>\n",
       "  <tbody>\n",
       "    <tr>\n",
       "      <th>0</th>\n",
       "      <td>892420643555336193</td>\n",
       "      <td>8853</td>\n",
       "      <td>39467</td>\n",
       "    </tr>\n",
       "    <tr>\n",
       "      <th>1</th>\n",
       "      <td>892177421306343426</td>\n",
       "      <td>6514</td>\n",
       "      <td>33819</td>\n",
       "    </tr>\n",
       "  </tbody>\n",
       "</table>\n",
       "</div>"
      ],
      "text/plain": [
       "             tweet_id retweet_count favorite_count\n",
       "0  892420643555336193          8853          39467\n",
       "1  892177421306343426          6514          33819"
      ]
     },
     "execution_count": 191,
     "metadata": {},
     "output_type": "execute_result"
    }
   ],
   "source": [
    "jsons.head(2)"
   ]
  },
  {
   "cell_type": "markdown",
   "metadata": {},
   "source": [
    "//////////////////////////////////////////////////////////////////////////////////////////////////////////////////////////////////////////////////////////////////////////////////////////////////////////////////////////////////////////////////////////////\n",
    "<a id='assess'></a>\n",
    "## Assess\n",
    "After gathering each of the above pieces of data, we assess them visually and programmatically for quality and tidiness issues. We should detect and document quality issues first and then tidiness issues.\n",
    "\n",
    "There are four dimensions of quality data:\n",
    "\n",
    "- **Completeness**: do we have all of the records that we should? Do we have missing records or not? Are there specific rows, columns, or cells missing?\n",
    "- **Validity**: we have the records, but they're not valid, i.e., they don't conform to a defined schema. A schema is a defined set of rules for data. These rules can be real-world constraints (e.g. negative height is impossible) and table-specific constraints (e.g. unique key constraints in tables).\n",
    "- **Accuracy**: inaccurate data is wrong data that is valid. It adheres to the defined schema, but it is still incorrect. Example: a patient's weight that is 5 lbs too heavy because the scale was faulty.\n",
    "- **Consistency**: inconsistent data is both valid and accurate, but there are multiple correct ways of referring to the same thing. Consistency, i.e., a standard format, in columns that represent the same data across tables and/or within tables is desired.\n",
    "\n",
    "The requirements for tidy data are:\n",
    "\n",
    "- Each variable forms a column.\n",
    "- Each observation forms a row.\n",
    "- Each type of observational unit forms a table.\n",
    "\n",
    "first move would be visual assessment. so getting a sample and info from each datafram should be helpful."
   ]
  },
  {
   "cell_type": "code",
   "execution_count": 273,
   "metadata": {
    "scrolled": true
   },
   "outputs": [
    {
     "data": {
      "text/html": [
       "<div>\n",
       "<style scoped>\n",
       "    .dataframe tbody tr th:only-of-type {\n",
       "        vertical-align: middle;\n",
       "    }\n",
       "\n",
       "    .dataframe tbody tr th {\n",
       "        vertical-align: top;\n",
       "    }\n",
       "\n",
       "    .dataframe thead th {\n",
       "        text-align: right;\n",
       "    }\n",
       "</style>\n",
       "<table border=\"1\" class=\"dataframe\">\n",
       "  <thead>\n",
       "    <tr style=\"text-align: right;\">\n",
       "      <th></th>\n",
       "      <th>tweet_id</th>\n",
       "      <th>in_reply_to_status_id</th>\n",
       "      <th>in_reply_to_user_id</th>\n",
       "      <th>timestamp</th>\n",
       "      <th>source</th>\n",
       "      <th>text</th>\n",
       "      <th>retweeted_status_id</th>\n",
       "      <th>retweeted_status_user_id</th>\n",
       "      <th>retweeted_status_timestamp</th>\n",
       "      <th>expanded_urls</th>\n",
       "      <th>rating_numerator</th>\n",
       "      <th>rating_denominator</th>\n",
       "      <th>name</th>\n",
       "      <th>doggo</th>\n",
       "      <th>floofer</th>\n",
       "      <th>pupper</th>\n",
       "      <th>puppo</th>\n",
       "    </tr>\n",
       "  </thead>\n",
       "  <tbody>\n",
       "    <tr>\n",
       "      <th>453</th>\n",
       "      <td>818588835076603904</td>\n",
       "      <td>NaN</td>\n",
       "      <td>NaN</td>\n",
       "      <td>2017-01-09 22:42:41 +0000</td>\n",
       "      <td>&lt;a href=\"http://twitter.com/download/iphone\" r...</td>\n",
       "      <td>RT @dog_rates: This is Chelsea. She forgot how...</td>\n",
       "      <td>7.735476e+17</td>\n",
       "      <td>4.196984e+09</td>\n",
       "      <td>2016-09-07 15:44:53 +0000</td>\n",
       "      <td>https://twitter.com/dog_rates/status/773547596...</td>\n",
       "      <td>11</td>\n",
       "      <td>10</td>\n",
       "      <td>Chelsea</td>\n",
       "      <td>None</td>\n",
       "      <td>None</td>\n",
       "      <td>pupper</td>\n",
       "      <td>None</td>\n",
       "    </tr>\n",
       "    <tr>\n",
       "      <th>2090</th>\n",
       "      <td>670786190031921152</td>\n",
       "      <td>NaN</td>\n",
       "      <td>NaN</td>\n",
       "      <td>2015-11-29 02:07:44 +0000</td>\n",
       "      <td>&lt;a href=\"http://twitter.com/download/iphone\" r...</td>\n",
       "      <td>This is Creg. You offered him a ride to work b...</td>\n",
       "      <td>NaN</td>\n",
       "      <td>NaN</td>\n",
       "      <td>NaN</td>\n",
       "      <td>https://twitter.com/dog_rates/status/670786190...</td>\n",
       "      <td>8</td>\n",
       "      <td>10</td>\n",
       "      <td>Creg</td>\n",
       "      <td>None</td>\n",
       "      <td>None</td>\n",
       "      <td>None</td>\n",
       "      <td>None</td>\n",
       "    </tr>\n",
       "  </tbody>\n",
       "</table>\n",
       "</div>"
      ],
      "text/plain": [
       "                tweet_id  in_reply_to_status_id  in_reply_to_user_id  \\\n",
       "453   818588835076603904                    NaN                  NaN   \n",
       "2090  670786190031921152                    NaN                  NaN   \n",
       "\n",
       "                      timestamp  \\\n",
       "453   2017-01-09 22:42:41 +0000   \n",
       "2090  2015-11-29 02:07:44 +0000   \n",
       "\n",
       "                                                 source  \\\n",
       "453   <a href=\"http://twitter.com/download/iphone\" r...   \n",
       "2090  <a href=\"http://twitter.com/download/iphone\" r...   \n",
       "\n",
       "                                                   text  retweeted_status_id  \\\n",
       "453   RT @dog_rates: This is Chelsea. She forgot how...         7.735476e+17   \n",
       "2090  This is Creg. You offered him a ride to work b...                  NaN   \n",
       "\n",
       "      retweeted_status_user_id retweeted_status_timestamp  \\\n",
       "453               4.196984e+09  2016-09-07 15:44:53 +0000   \n",
       "2090                       NaN                        NaN   \n",
       "\n",
       "                                          expanded_urls  rating_numerator  \\\n",
       "453   https://twitter.com/dog_rates/status/773547596...                11   \n",
       "2090  https://twitter.com/dog_rates/status/670786190...                 8   \n",
       "\n",
       "      rating_denominator     name doggo floofer  pupper puppo  \n",
       "453                   10  Chelsea  None    None  pupper  None  \n",
       "2090                  10     Creg  None    None    None  None  "
      ]
     },
     "execution_count": 273,
     "metadata": {},
     "output_type": "execute_result"
    }
   ],
   "source": [
    "archive.sample(2)"
   ]
  },
  {
   "cell_type": "code",
   "execution_count": 93,
   "metadata": {},
   "outputs": [
    {
     "data": {
      "text/html": [
       "<div>\n",
       "<style scoped>\n",
       "    .dataframe tbody tr th:only-of-type {\n",
       "        vertical-align: middle;\n",
       "    }\n",
       "\n",
       "    .dataframe tbody tr th {\n",
       "        vertical-align: top;\n",
       "    }\n",
       "\n",
       "    .dataframe thead th {\n",
       "        text-align: right;\n",
       "    }\n",
       "</style>\n",
       "<table border=\"1\" class=\"dataframe\">\n",
       "  <thead>\n",
       "    <tr style=\"text-align: right;\">\n",
       "      <th></th>\n",
       "      <th>tweet_id</th>\n",
       "      <th>jpg_url</th>\n",
       "      <th>img_num</th>\n",
       "      <th>p1</th>\n",
       "      <th>p1_conf</th>\n",
       "      <th>p1_dog</th>\n",
       "      <th>p2</th>\n",
       "      <th>p2_conf</th>\n",
       "      <th>p2_dog</th>\n",
       "      <th>p3</th>\n",
       "      <th>p3_conf</th>\n",
       "      <th>p3_dog</th>\n",
       "    </tr>\n",
       "  </thead>\n",
       "  <tbody>\n",
       "    <tr>\n",
       "      <th>393</th>\n",
       "      <td>673583129559498752</td>\n",
       "      <td>https://pbs.twimg.com/media/CVkMRUeWsAA9bMh.jpg</td>\n",
       "      <td>1</td>\n",
       "      <td>Arctic_fox</td>\n",
       "      <td>0.153271</td>\n",
       "      <td>False</td>\n",
       "      <td>golden_retriever</td>\n",
       "      <td>0.113946</td>\n",
       "      <td>True</td>\n",
       "      <td>borzoi</td>\n",
       "      <td>0.110718</td>\n",
       "      <td>True</td>\n",
       "    </tr>\n",
       "    <tr>\n",
       "      <th>558</th>\n",
       "      <td>677698403548192770</td>\n",
       "      <td>https://pbs.twimg.com/media/CWerGmOXAAAm6NY.jpg</td>\n",
       "      <td>1</td>\n",
       "      <td>Shih-Tzu</td>\n",
       "      <td>0.916645</td>\n",
       "      <td>True</td>\n",
       "      <td>Lhasa</td>\n",
       "      <td>0.057883</td>\n",
       "      <td>True</td>\n",
       "      <td>Pekinese</td>\n",
       "      <td>0.020126</td>\n",
       "      <td>True</td>\n",
       "    </tr>\n",
       "    <tr>\n",
       "      <th>517</th>\n",
       "      <td>676440007570247681</td>\n",
       "      <td>https://pbs.twimg.com/media/CWMyl9EWUAAnZJ0.jpg</td>\n",
       "      <td>2</td>\n",
       "      <td>Maltese_dog</td>\n",
       "      <td>0.579472</td>\n",
       "      <td>True</td>\n",
       "      <td>toy_poodle</td>\n",
       "      <td>0.133446</td>\n",
       "      <td>True</td>\n",
       "      <td>Shih-Tzu</td>\n",
       "      <td>0.094397</td>\n",
       "      <td>True</td>\n",
       "    </tr>\n",
       "    <tr>\n",
       "      <th>626</th>\n",
       "      <td>680801747103793152</td>\n",
       "      <td>https://pbs.twimg.com/media/CXKxkseW8AAjAMY.jpg</td>\n",
       "      <td>1</td>\n",
       "      <td>pug</td>\n",
       "      <td>0.996720</td>\n",
       "      <td>True</td>\n",
       "      <td>Labrador_retriever</td>\n",
       "      <td>0.001439</td>\n",
       "      <td>True</td>\n",
       "      <td>Staffordshire_bullterrier</td>\n",
       "      <td>0.000518</td>\n",
       "      <td>True</td>\n",
       "    </tr>\n",
       "    <tr>\n",
       "      <th>414</th>\n",
       "      <td>674008982932058114</td>\n",
       "      <td>https://pbs.twimg.com/media/CVqPkVoU4AAkXA7.jpg</td>\n",
       "      <td>1</td>\n",
       "      <td>jigsaw_puzzle</td>\n",
       "      <td>0.970810</td>\n",
       "      <td>False</td>\n",
       "      <td>prayer_rug</td>\n",
       "      <td>0.011048</td>\n",
       "      <td>False</td>\n",
       "      <td>quill</td>\n",
       "      <td>0.008432</td>\n",
       "      <td>False</td>\n",
       "    </tr>\n",
       "  </tbody>\n",
       "</table>\n",
       "</div>"
      ],
      "text/plain": [
       "               tweet_id                                          jpg_url  \\\n",
       "393  673583129559498752  https://pbs.twimg.com/media/CVkMRUeWsAA9bMh.jpg   \n",
       "558  677698403548192770  https://pbs.twimg.com/media/CWerGmOXAAAm6NY.jpg   \n",
       "517  676440007570247681  https://pbs.twimg.com/media/CWMyl9EWUAAnZJ0.jpg   \n",
       "626  680801747103793152  https://pbs.twimg.com/media/CXKxkseW8AAjAMY.jpg   \n",
       "414  674008982932058114  https://pbs.twimg.com/media/CVqPkVoU4AAkXA7.jpg   \n",
       "\n",
       "     img_num             p1   p1_conf  p1_dog                  p2   p2_conf  \\\n",
       "393        1     Arctic_fox  0.153271   False    golden_retriever  0.113946   \n",
       "558        1       Shih-Tzu  0.916645    True               Lhasa  0.057883   \n",
       "517        2    Maltese_dog  0.579472    True          toy_poodle  0.133446   \n",
       "626        1            pug  0.996720    True  Labrador_retriever  0.001439   \n",
       "414        1  jigsaw_puzzle  0.970810   False          prayer_rug  0.011048   \n",
       "\n",
       "     p2_dog                         p3   p3_conf  p3_dog  \n",
       "393    True                     borzoi  0.110718    True  \n",
       "558    True                   Pekinese  0.020126    True  \n",
       "517    True                   Shih-Tzu  0.094397    True  \n",
       "626    True  Staffordshire_bullterrier  0.000518    True  \n",
       "414   False                      quill  0.008432   False  "
      ]
     },
     "execution_count": 93,
     "metadata": {},
     "output_type": "execute_result"
    }
   ],
   "source": [
    "images.sample(5)"
   ]
  },
  {
   "cell_type": "code",
   "execution_count": 94,
   "metadata": {
    "scrolled": true
   },
   "outputs": [
    {
     "data": {
      "text/html": [
       "<div>\n",
       "<style scoped>\n",
       "    .dataframe tbody tr th:only-of-type {\n",
       "        vertical-align: middle;\n",
       "    }\n",
       "\n",
       "    .dataframe tbody tr th {\n",
       "        vertical-align: top;\n",
       "    }\n",
       "\n",
       "    .dataframe thead th {\n",
       "        text-align: right;\n",
       "    }\n",
       "</style>\n",
       "<table border=\"1\" class=\"dataframe\">\n",
       "  <thead>\n",
       "    <tr style=\"text-align: right;\">\n",
       "      <th></th>\n",
       "      <th>tweet_id</th>\n",
       "      <th>retweet_count</th>\n",
       "      <th>favorite_count</th>\n",
       "    </tr>\n",
       "  </thead>\n",
       "  <tbody>\n",
       "    <tr>\n",
       "      <th>1549</th>\n",
       "      <td>688064179421470721</td>\n",
       "      <td>381</td>\n",
       "      <td>1807</td>\n",
       "    </tr>\n",
       "    <tr>\n",
       "      <th>253</th>\n",
       "      <td>842846295480000512</td>\n",
       "      <td>3814</td>\n",
       "      <td>15805</td>\n",
       "    </tr>\n",
       "    <tr>\n",
       "      <th>802</th>\n",
       "      <td>771004394259247104</td>\n",
       "      <td>236</td>\n",
       "      <td>0</td>\n",
       "    </tr>\n",
       "    <tr>\n",
       "      <th>2304</th>\n",
       "      <td>666430724426358785</td>\n",
       "      <td>195</td>\n",
       "      <td>310</td>\n",
       "    </tr>\n",
       "    <tr>\n",
       "      <th>1283</th>\n",
       "      <td>707741517457260545</td>\n",
       "      <td>646</td>\n",
       "      <td>2600</td>\n",
       "    </tr>\n",
       "  </tbody>\n",
       "</table>\n",
       "</div>"
      ],
      "text/plain": [
       "                tweet_id retweet_count favorite_count\n",
       "1549  688064179421470721           381           1807\n",
       "253   842846295480000512          3814          15805\n",
       "802   771004394259247104           236              0\n",
       "2304  666430724426358785           195            310\n",
       "1283  707741517457260545           646           2600"
      ]
     },
     "execution_count": 94,
     "metadata": {},
     "output_type": "execute_result"
    }
   ],
   "source": [
    "jsons.sample(5)"
   ]
  },
  {
   "cell_type": "code",
   "execution_count": 192,
   "metadata": {
    "scrolled": true
   },
   "outputs": [
    {
     "name": "stdout",
     "output_type": "stream",
     "text": [
      "<class 'pandas.core.frame.DataFrame'>\n",
      "RangeIndex: 2356 entries, 0 to 2355\n",
      "Data columns (total 17 columns):\n",
      "tweet_id                      2356 non-null int64\n",
      "in_reply_to_status_id         78 non-null float64\n",
      "in_reply_to_user_id           78 non-null float64\n",
      "timestamp                     2356 non-null object\n",
      "source                        2356 non-null object\n",
      "text                          2356 non-null object\n",
      "retweeted_status_id           181 non-null float64\n",
      "retweeted_status_user_id      181 non-null float64\n",
      "retweeted_status_timestamp    181 non-null object\n",
      "expanded_urls                 2297 non-null object\n",
      "rating_numerator              2356 non-null int64\n",
      "rating_denominator            2356 non-null int64\n",
      "name                          2356 non-null object\n",
      "doggo                         2356 non-null object\n",
      "floofer                       2356 non-null object\n",
      "pupper                        2356 non-null object\n",
      "puppo                         2356 non-null object\n",
      "dtypes: float64(4), int64(3), object(10)\n",
      "memory usage: 313.0+ KB\n"
     ]
    }
   ],
   "source": [
    "archive.info()"
   ]
  },
  {
   "cell_type": "code",
   "execution_count": 193,
   "metadata": {},
   "outputs": [
    {
     "name": "stdout",
     "output_type": "stream",
     "text": [
      "<class 'pandas.core.frame.DataFrame'>\n",
      "RangeIndex: 2075 entries, 0 to 2074\n",
      "Data columns (total 12 columns):\n",
      "tweet_id    2075 non-null int64\n",
      "jpg_url     2075 non-null object\n",
      "img_num     2075 non-null int64\n",
      "p1          2075 non-null object\n",
      "p1_conf     2075 non-null float64\n",
      "p1_dog      2075 non-null bool\n",
      "p2          2075 non-null object\n",
      "p2_conf     2075 non-null float64\n",
      "p2_dog      2075 non-null bool\n",
      "p3          2075 non-null object\n",
      "p3_conf     2075 non-null float64\n",
      "p3_dog      2075 non-null bool\n",
      "dtypes: bool(3), float64(3), int64(2), object(4)\n",
      "memory usage: 152.1+ KB\n"
     ]
    }
   ],
   "source": [
    "images.info()"
   ]
  },
  {
   "cell_type": "code",
   "execution_count": 194,
   "metadata": {
    "scrolled": true
   },
   "outputs": [
    {
     "name": "stdout",
     "output_type": "stream",
     "text": [
      "<class 'pandas.core.frame.DataFrame'>\n",
      "RangeIndex: 2354 entries, 0 to 2353\n",
      "Data columns (total 3 columns):\n",
      "tweet_id          2354 non-null object\n",
      "retweet_count     2354 non-null object\n",
      "favorite_count    2354 non-null object\n",
      "dtypes: object(3)\n",
      "memory usage: 55.2+ KB\n"
     ]
    }
   ],
   "source": [
    "jsons.info()"
   ]
  },
  {
   "cell_type": "code",
   "execution_count": 195,
   "metadata": {},
   "outputs": [
    {
     "data": {
      "text/plain": [
       "((2356, 17), (2075, 12), (2354, 3))"
      ]
     },
     "execution_count": 195,
     "metadata": {},
     "output_type": "execute_result"
    }
   ],
   "source": [
    "archive.shape,images.shape,jsons.shape"
   ]
  },
  {
   "cell_type": "code",
   "execution_count": 271,
   "metadata": {
    "scrolled": true
   },
   "outputs": [
    {
     "data": {
      "text/plain": [
       "2075"
      ]
     },
     "execution_count": 271,
     "metadata": {},
     "output_type": "execute_result"
    }
   ],
   "source": [
    "archive[archive.tweet_id.isin(images.tweet_id)].tweet_id.count()"
   ]
  },
  {
   "cell_type": "code",
   "execution_count": 197,
   "metadata": {},
   "outputs": [
    {
     "data": {
      "text/plain": [
       "2354"
      ]
     },
     "execution_count": 197,
     "metadata": {},
     "output_type": "execute_result"
    }
   ],
   "source": [
    "archive[archive.tweet_id.isin(jsons.tweet_id)].tweet_id.count()"
   ]
  },
  {
   "cell_type": "code",
   "execution_count": 198,
   "metadata": {},
   "outputs": [
    {
     "data": {
      "text/plain": [
       "2073"
      ]
     },
     "execution_count": 198,
     "metadata": {},
     "output_type": "execute_result"
    }
   ],
   "source": [
    "jsons[jsons.tweet_id.isin(images.tweet_id)].tweet_id.count()"
   ]
  },
  {
   "cell_type": "markdown",
   "metadata": {},
   "source": [
    "To check if the data values are valid we can use summary statistics to find the range of data."
   ]
  },
  {
   "cell_type": "code",
   "execution_count": 122,
   "metadata": {},
   "outputs": [
    {
     "data": {
      "text/html": [
       "<div>\n",
       "<style scoped>\n",
       "    .dataframe tbody tr th:only-of-type {\n",
       "        vertical-align: middle;\n",
       "    }\n",
       "\n",
       "    .dataframe tbody tr th {\n",
       "        vertical-align: top;\n",
       "    }\n",
       "\n",
       "    .dataframe thead th {\n",
       "        text-align: right;\n",
       "    }\n",
       "</style>\n",
       "<table border=\"1\" class=\"dataframe\">\n",
       "  <thead>\n",
       "    <tr style=\"text-align: right;\">\n",
       "      <th></th>\n",
       "      <th>tweet_id</th>\n",
       "      <th>in_reply_to_status_id</th>\n",
       "      <th>in_reply_to_user_id</th>\n",
       "      <th>retweeted_status_id</th>\n",
       "      <th>retweeted_status_user_id</th>\n",
       "      <th>rating_numerator</th>\n",
       "      <th>rating_denominator</th>\n",
       "    </tr>\n",
       "  </thead>\n",
       "  <tbody>\n",
       "    <tr>\n",
       "      <th>count</th>\n",
       "      <td>2.356000e+03</td>\n",
       "      <td>7.800000e+01</td>\n",
       "      <td>7.800000e+01</td>\n",
       "      <td>1.810000e+02</td>\n",
       "      <td>1.810000e+02</td>\n",
       "      <td>2356.000000</td>\n",
       "      <td>2356.000000</td>\n",
       "    </tr>\n",
       "    <tr>\n",
       "      <th>mean</th>\n",
       "      <td>7.427716e+17</td>\n",
       "      <td>7.455079e+17</td>\n",
       "      <td>2.014171e+16</td>\n",
       "      <td>7.720400e+17</td>\n",
       "      <td>1.241698e+16</td>\n",
       "      <td>13.126486</td>\n",
       "      <td>10.455433</td>\n",
       "    </tr>\n",
       "    <tr>\n",
       "      <th>std</th>\n",
       "      <td>6.856705e+16</td>\n",
       "      <td>7.582492e+16</td>\n",
       "      <td>1.252797e+17</td>\n",
       "      <td>6.236928e+16</td>\n",
       "      <td>9.599254e+16</td>\n",
       "      <td>45.876648</td>\n",
       "      <td>6.745237</td>\n",
       "    </tr>\n",
       "    <tr>\n",
       "      <th>min</th>\n",
       "      <td>6.660209e+17</td>\n",
       "      <td>6.658147e+17</td>\n",
       "      <td>1.185634e+07</td>\n",
       "      <td>6.661041e+17</td>\n",
       "      <td>7.832140e+05</td>\n",
       "      <td>0.000000</td>\n",
       "      <td>0.000000</td>\n",
       "    </tr>\n",
       "    <tr>\n",
       "      <th>25%</th>\n",
       "      <td>6.783989e+17</td>\n",
       "      <td>6.757419e+17</td>\n",
       "      <td>3.086374e+08</td>\n",
       "      <td>7.186315e+17</td>\n",
       "      <td>4.196984e+09</td>\n",
       "      <td>10.000000</td>\n",
       "      <td>10.000000</td>\n",
       "    </tr>\n",
       "    <tr>\n",
       "      <th>50%</th>\n",
       "      <td>7.196279e+17</td>\n",
       "      <td>7.038708e+17</td>\n",
       "      <td>4.196984e+09</td>\n",
       "      <td>7.804657e+17</td>\n",
       "      <td>4.196984e+09</td>\n",
       "      <td>11.000000</td>\n",
       "      <td>10.000000</td>\n",
       "    </tr>\n",
       "    <tr>\n",
       "      <th>75%</th>\n",
       "      <td>7.993373e+17</td>\n",
       "      <td>8.257804e+17</td>\n",
       "      <td>4.196984e+09</td>\n",
       "      <td>8.203146e+17</td>\n",
       "      <td>4.196984e+09</td>\n",
       "      <td>12.000000</td>\n",
       "      <td>10.000000</td>\n",
       "    </tr>\n",
       "    <tr>\n",
       "      <th>max</th>\n",
       "      <td>8.924206e+17</td>\n",
       "      <td>8.862664e+17</td>\n",
       "      <td>8.405479e+17</td>\n",
       "      <td>8.874740e+17</td>\n",
       "      <td>7.874618e+17</td>\n",
       "      <td>1776.000000</td>\n",
       "      <td>170.000000</td>\n",
       "    </tr>\n",
       "  </tbody>\n",
       "</table>\n",
       "</div>"
      ],
      "text/plain": [
       "           tweet_id  in_reply_to_status_id  in_reply_to_user_id  \\\n",
       "count  2.356000e+03           7.800000e+01         7.800000e+01   \n",
       "mean   7.427716e+17           7.455079e+17         2.014171e+16   \n",
       "std    6.856705e+16           7.582492e+16         1.252797e+17   \n",
       "min    6.660209e+17           6.658147e+17         1.185634e+07   \n",
       "25%    6.783989e+17           6.757419e+17         3.086374e+08   \n",
       "50%    7.196279e+17           7.038708e+17         4.196984e+09   \n",
       "75%    7.993373e+17           8.257804e+17         4.196984e+09   \n",
       "max    8.924206e+17           8.862664e+17         8.405479e+17   \n",
       "\n",
       "       retweeted_status_id  retweeted_status_user_id  rating_numerator  \\\n",
       "count         1.810000e+02              1.810000e+02       2356.000000   \n",
       "mean          7.720400e+17              1.241698e+16         13.126486   \n",
       "std           6.236928e+16              9.599254e+16         45.876648   \n",
       "min           6.661041e+17              7.832140e+05          0.000000   \n",
       "25%           7.186315e+17              4.196984e+09         10.000000   \n",
       "50%           7.804657e+17              4.196984e+09         11.000000   \n",
       "75%           8.203146e+17              4.196984e+09         12.000000   \n",
       "max           8.874740e+17              7.874618e+17       1776.000000   \n",
       "\n",
       "       rating_denominator  \n",
       "count         2356.000000  \n",
       "mean            10.455433  \n",
       "std              6.745237  \n",
       "min              0.000000  \n",
       "25%             10.000000  \n",
       "50%             10.000000  \n",
       "75%             10.000000  \n",
       "max            170.000000  "
      ]
     },
     "execution_count": 122,
     "metadata": {},
     "output_type": "execute_result"
    }
   ],
   "source": [
    "archive.describe()"
   ]
  },
  {
   "cell_type": "code",
   "execution_count": 11,
   "metadata": {},
   "outputs": [
    {
     "data": {
      "text/html": [
       "<div>\n",
       "<style scoped>\n",
       "    .dataframe tbody tr th:only-of-type {\n",
       "        vertical-align: middle;\n",
       "    }\n",
       "\n",
       "    .dataframe tbody tr th {\n",
       "        vertical-align: top;\n",
       "    }\n",
       "\n",
       "    .dataframe thead th {\n",
       "        text-align: right;\n",
       "    }\n",
       "</style>\n",
       "<table border=\"1\" class=\"dataframe\">\n",
       "  <thead>\n",
       "    <tr style=\"text-align: right;\">\n",
       "      <th></th>\n",
       "      <th>tweet_id</th>\n",
       "      <th>img_num</th>\n",
       "      <th>p1_conf</th>\n",
       "      <th>p2_conf</th>\n",
       "      <th>p3_conf</th>\n",
       "    </tr>\n",
       "  </thead>\n",
       "  <tbody>\n",
       "    <tr>\n",
       "      <th>count</th>\n",
       "      <td>2.075000e+03</td>\n",
       "      <td>2075.000000</td>\n",
       "      <td>2075.000000</td>\n",
       "      <td>2.075000e+03</td>\n",
       "      <td>2.075000e+03</td>\n",
       "    </tr>\n",
       "    <tr>\n",
       "      <th>mean</th>\n",
       "      <td>7.384514e+17</td>\n",
       "      <td>1.203855</td>\n",
       "      <td>0.594548</td>\n",
       "      <td>1.345886e-01</td>\n",
       "      <td>6.032417e-02</td>\n",
       "    </tr>\n",
       "    <tr>\n",
       "      <th>std</th>\n",
       "      <td>6.785203e+16</td>\n",
       "      <td>0.561875</td>\n",
       "      <td>0.271174</td>\n",
       "      <td>1.006657e-01</td>\n",
       "      <td>5.090593e-02</td>\n",
       "    </tr>\n",
       "    <tr>\n",
       "      <th>min</th>\n",
       "      <td>6.660209e+17</td>\n",
       "      <td>1.000000</td>\n",
       "      <td>0.044333</td>\n",
       "      <td>1.011300e-08</td>\n",
       "      <td>1.740170e-10</td>\n",
       "    </tr>\n",
       "    <tr>\n",
       "      <th>25%</th>\n",
       "      <td>6.764835e+17</td>\n",
       "      <td>1.000000</td>\n",
       "      <td>0.364412</td>\n",
       "      <td>5.388625e-02</td>\n",
       "      <td>1.622240e-02</td>\n",
       "    </tr>\n",
       "    <tr>\n",
       "      <th>50%</th>\n",
       "      <td>7.119988e+17</td>\n",
       "      <td>1.000000</td>\n",
       "      <td>0.588230</td>\n",
       "      <td>1.181810e-01</td>\n",
       "      <td>4.944380e-02</td>\n",
       "    </tr>\n",
       "    <tr>\n",
       "      <th>75%</th>\n",
       "      <td>7.932034e+17</td>\n",
       "      <td>1.000000</td>\n",
       "      <td>0.843855</td>\n",
       "      <td>1.955655e-01</td>\n",
       "      <td>9.180755e-02</td>\n",
       "    </tr>\n",
       "    <tr>\n",
       "      <th>max</th>\n",
       "      <td>8.924206e+17</td>\n",
       "      <td>4.000000</td>\n",
       "      <td>1.000000</td>\n",
       "      <td>4.880140e-01</td>\n",
       "      <td>2.734190e-01</td>\n",
       "    </tr>\n",
       "  </tbody>\n",
       "</table>\n",
       "</div>"
      ],
      "text/plain": [
       "           tweet_id      img_num      p1_conf       p2_conf       p3_conf\n",
       "count  2.075000e+03  2075.000000  2075.000000  2.075000e+03  2.075000e+03\n",
       "mean   7.384514e+17     1.203855     0.594548  1.345886e-01  6.032417e-02\n",
       "std    6.785203e+16     0.561875     0.271174  1.006657e-01  5.090593e-02\n",
       "min    6.660209e+17     1.000000     0.044333  1.011300e-08  1.740170e-10\n",
       "25%    6.764835e+17     1.000000     0.364412  5.388625e-02  1.622240e-02\n",
       "50%    7.119988e+17     1.000000     0.588230  1.181810e-01  4.944380e-02\n",
       "75%    7.932034e+17     1.000000     0.843855  1.955655e-01  9.180755e-02\n",
       "max    8.924206e+17     4.000000     1.000000  4.880140e-01  2.734190e-01"
      ]
     },
     "execution_count": 11,
     "metadata": {},
     "output_type": "execute_result"
    }
   ],
   "source": [
    "images.describe()"
   ]
  },
  {
   "cell_type": "code",
   "execution_count": 124,
   "metadata": {},
   "outputs": [
    {
     "data": {
      "text/html": [
       "<div>\n",
       "<style scoped>\n",
       "    .dataframe tbody tr th:only-of-type {\n",
       "        vertical-align: middle;\n",
       "    }\n",
       "\n",
       "    .dataframe tbody tr th {\n",
       "        vertical-align: top;\n",
       "    }\n",
       "\n",
       "    .dataframe thead th {\n",
       "        text-align: right;\n",
       "    }\n",
       "</style>\n",
       "<table border=\"1\" class=\"dataframe\">\n",
       "  <thead>\n",
       "    <tr style=\"text-align: right;\">\n",
       "      <th></th>\n",
       "      <th>tweet_id</th>\n",
       "      <th>retweet_count</th>\n",
       "      <th>favorite_count</th>\n",
       "    </tr>\n",
       "  </thead>\n",
       "  <tbody>\n",
       "    <tr>\n",
       "      <th>count</th>\n",
       "      <td>2339</td>\n",
       "      <td>2339</td>\n",
       "      <td>2339</td>\n",
       "    </tr>\n",
       "    <tr>\n",
       "      <th>unique</th>\n",
       "      <td>2338</td>\n",
       "      <td>1722</td>\n",
       "      <td>2012</td>\n",
       "    </tr>\n",
       "    <tr>\n",
       "      <th>top</th>\n",
       "      <td>666020888022790149</td>\n",
       "      <td>57</td>\n",
       "      <td>0</td>\n",
       "    </tr>\n",
       "    <tr>\n",
       "      <th>freq</th>\n",
       "      <td>2</td>\n",
       "      <td>5</td>\n",
       "      <td>167</td>\n",
       "    </tr>\n",
       "  </tbody>\n",
       "</table>\n",
       "</div>"
      ],
      "text/plain": [
       "                  tweet_id  retweet_count  favorite_count\n",
       "count                 2339           2339            2339\n",
       "unique                2338           1722            2012\n",
       "top     666020888022790149             57               0\n",
       "freq                     2              5             167"
      ]
     },
     "execution_count": 124,
     "metadata": {},
     "output_type": "execute_result"
    }
   ],
   "source": [
    "jsons.describe()"
   ]
  },
  {
   "cell_type": "markdown",
   "metadata": {},
   "source": [
    "As for some records such as text in archive the record cannot be displayed entirely it is better to check them separately."
   ]
  },
  {
   "cell_type": "code",
   "execution_count": 140,
   "metadata": {
    "scrolled": true
   },
   "outputs": [
    {
     "data": {
      "text/plain": [
       "2130    This is Wally. He's a Flaccid Mitochondria. Go...\n",
       "1476    This pupper is afraid of its own feet. 12/10 w...\n",
       "1455    This is Bob. He just got back from his job int...\n",
       "536     This is Lennon. He's a Boopershnoop Pupperdoop...\n",
       "1550    We normally don't rate birds but I feel bad co...\n",
       "1012    RT @dog_rates: This pupper killed this great w...\n",
       "1280    Meet Malikai. He was rolling around having fun...\n",
       "2184    Honor to rate this dog. Lots of fur on him. Tw...\n",
       "2155    Very human-like. Cute overbite smile *finger t...\n",
       "611     @JODYHiGHROLLER it may be an 11/10 but what do...\n",
       "1129    Meet Pupcasso. You can't afford his art. 13/10...\n",
       "76      This is Emmy. She was adopted today. Massive r...\n",
       "550     This is Django. He accidentally opened the fro...\n",
       "1797    This is the happiest pupper I've ever seen. 10...\n",
       "28      This is Derek. He's late for a dog meeting. 13...\n",
       "379     This is Boots. She doesn't know what to do wit...\n",
       "928     This is Keith. He's pursuing a more 2D lifesty...\n",
       "794     RT @dog_rates: Meet Fizz. She thinks love is a...\n",
       "2090    This is Creg. You offered him a ride to work b...\n",
       "48      This is Rusty. He wasn't ready for the first p...\n",
       "314     We only rate dogs. Please don't send in any no...\n",
       "393     This is Mo. No one will push him around in the...\n",
       "378     This is Kona. Yesterday she stopped by the dep...\n",
       "483     This is Cooper. Someone attacked him with a sh...\n",
       "369     Occasionally, we're sent fantastic stories. Th...\n",
       "2179    This is Tucker. He is 100% ready for the sport...\n",
       "338     This is Charlie. He fell asleep on a heating v...\n",
       "1121    We only rate dogs. Pls stop sending non-canine...\n",
       "418     This is Gabe. He was the unequivocal embodimen...\n",
       "2010    10/10 for dog. 7/10 for cat. 12/10 for human. ...\n",
       "200     At first I thought this was a shy doggo, but i...\n",
       "1809    Meet Ash. He's just a head now. Lost his body ...\n",
       "203     This is Rumpole. He'll be your Uber driver thi...\n",
       "399     RT @dog_rates: This is Bailey. She loves going...\n",
       "1153    This is Lola. She's a Butternut Splishnsplash....\n",
       "179                          @Marc_IRL pixelated af 12/10\n",
       "1767    These little fellas have opposite facial expre...\n",
       "131     Oh my this spooked me up. We only rate dogs, n...\n",
       "925     This is Watson. He trust falls on command. 13/...\n",
       "218     @markhoppus MARK THAT DOG HAS SEEN AND EXPERIE...\n",
       "1351    Here is a whole flock of puppers.  60/50 I'll ...\n",
       "1953    This is Kendall. 12/10 would cuddle the hell o...\n",
       "254     This is Charlie. He wants to know if you have ...\n",
       "519     This is Phil. He's a father. A very good fathe...\n",
       "1472    This is Kobe. He's a Speckled Rorschach. Reque...\n",
       "839     I don't know any of the backstory behind this ...\n",
       "333     This is Willow. She's the official strawberry ...\n",
       "1688    This is Carly. She's actually 2 dogs fused tog...\n",
       "1685    This is Toffee. He's a happy pupper. Appears d...\n",
       "2114    This is Sam. He's trying to escape the inordin...\n",
       "Name: text, dtype: object"
      ]
     },
     "execution_count": 140,
     "metadata": {},
     "output_type": "execute_result"
    }
   ],
   "source": [
    "archive.text.sample(50)"
   ]
  },
  {
   "cell_type": "code",
   "execution_count": 272,
   "metadata": {},
   "outputs": [
    {
     "data": {
      "text/plain": [
       "<a href=\"http://twitter.com/download/iphone\" rel=\"nofollow\">Twitter for iPhone</a>     2221\n",
       "<a href=\"http://vine.co\" rel=\"nofollow\">Vine - Make a Scene</a>                          91\n",
       "<a href=\"http://twitter.com\" rel=\"nofollow\">Twitter Web Client</a>                       33\n",
       "<a href=\"https://about.twitter.com/products/tweetdeck\" rel=\"nofollow\">TweetDeck</a>      11\n",
       "Name: source, dtype: int64"
      ]
     },
     "execution_count": 272,
     "metadata": {},
     "output_type": "execute_result"
    }
   ],
   "source": [
    "archive.source.value_counts()"
   ]
  },
  {
   "cell_type": "markdown",
   "metadata": {},
   "source": [
    "Sources are vague but it can be seen that there are only 4 sources of tweets, which are: twitter_iPhone, Vine, Twitter_web, Tweetdeck"
   ]
  },
  {
   "cell_type": "markdown",
   "metadata": {},
   "source": [
    "<a id='issue_sum'></a>\n",
    "<span style=\"color:Red; font-size: 2em\"> Issues Summary\n",
    "    \n",
    "<a id='quality'></a>\n",
    "### Quality\n",
    "- [Q1: null values in columns of archive: in_reply_to_status_id, in_reply_to_user_id, retweeted_status_id, retweeted_status_user_id,retweeted_status_timestamp. the data type are not correct either.](#Q1)\n",
    "- [Q2: incomplete records among the 3 datasets. archive, images and jsons have 2356,2075,2339 records respectively.](#Q2)\n",
    "- [Q3: non-descriptive column names in images p1-3,p1-3_conf.](#Q3)\n",
    "- [Q4: there is an extra '+0000' at the end of timestamps.](#Q4)\n",
    "- [Q5: in archive, timestamp type should be datetime and tweet_id must be string.](#Q5)\n",
    "- [Q6: some of tweet_id which are in images are missing in jsons which can be due to tweets deleted recently.](#Q6)\n",
    "- [Q7: the data type in jsons for counts should be integer instead of string.](#Q7)\n",
    "- [Q8: the maximum value for ratings are extreme in archive summary statistics.](#Q8)\n",
    "- [Q9: some denominator are other than 10](#Q9)\n",
    "- [Q10: the numerator should not be extremely higher than 10. more than 20 may not make any sense.](#Q10)\n",
    "- [Q11: source values are vague.](#Q11)\n",
    "- [Q12: column arrangement is not approperiate.](#Q12)\n",
    "- [Q13: We only want original dog ratings (no retweets)](#Q13)\n",
    "    \n",
    "<a id='tidiness'></a>\n",
    "### Tidiness\n",
    "- [T1: different stages of doggo, floofer, pupper and puppo should come in a single column 'stage' as category type](#T1)\n",
    "- [T2: there is no need for archive and jsons to be seperated and so they can be merged into a single dataframe.](#T2)\n"
   ]
  },
  {
   "cell_type": "markdown",
   "metadata": {},
   "source": [
    "//////////////////////////////////////////////////////////////////////////////////////////////////////////////////////////////////////////////////////////////////////////////////////////////////////////////////////////////////////////////////////////////\n",
    "<a id='clean'></a>\n",
    "## Clean\n",
    "First we must make copies of dataframes:"
   ]
  },
  {
   "cell_type": "code",
   "execution_count": 107,
   "metadata": {},
   "outputs": [],
   "source": [
    "archive_clean=archive.copy()\n",
    "images_clean=images.copy()\n",
    "jsons_clean=jsons.copy()"
   ]
  },
  {
   "cell_type": "markdown",
   "metadata": {},
   "source": [
    "<a id='Q1'></a> <a id='Q4'></a> <a id='Q5'></a>\n",
    "<span style=\"color:Red; font-size: 1.5em\"> issue Q1, Q4, Q5\n",
    "    \n",
    "#### Define\n",
    "- The columns with many null values  provide information about retweets and replies that may not occur for all tweets and so it is normal to have NaNs. However for the analysis in this project we only work on main tweets. So these columns can be dropped. \n",
    "- Remove +0000 at the end of timestamps and change type to datetime\n",
    "\n",
    "#### Code\n",
    "removing the last 5 digits:\n",
    "   "
   ]
  },
  {
   "cell_type": "code",
   "execution_count": 108,
   "metadata": {},
   "outputs": [],
   "source": [
    "archive_clean['timestamp']=archive_clean['timestamp'].str[:-5]\n",
    "archive_clean['retweeted_status_timestamp']=archive_clean['retweeted_status_timestamp'].str[:-5]"
   ]
  },
  {
   "cell_type": "markdown",
   "metadata": {},
   "source": [
    "changing the type to datetime:"
   ]
  },
  {
   "cell_type": "code",
   "execution_count": 109,
   "metadata": {},
   "outputs": [],
   "source": [
    "archive_clean['retweeted_status_timestamp']=pd.to_datetime(archive_clean['retweeted_status_timestamp'])\n",
    "archive_clean['timestamp']=pd.to_datetime(archive_clean['timestamp'])"
   ]
  },
  {
   "cell_type": "markdown",
   "metadata": {},
   "source": [
    "#### Test"
   ]
  },
  {
   "cell_type": "code",
   "execution_count": 167,
   "metadata": {
    "scrolled": true
   },
   "outputs": [
    {
     "name": "stdout",
     "output_type": "stream",
     "text": [
      "<class 'pandas.core.frame.DataFrame'>\n",
      "RangeIndex: 2356 entries, 0 to 2355\n",
      "Data columns (total 17 columns):\n",
      "tweet_id                      2356 non-null int64\n",
      "in_reply_to_status_id         78 non-null float64\n",
      "in_reply_to_user_id           78 non-null float64\n",
      "timestamp                     2356 non-null datetime64[ns]\n",
      "source                        2356 non-null object\n",
      "text                          2356 non-null object\n",
      "retweeted_status_id           181 non-null float64\n",
      "retweeted_status_user_id      181 non-null float64\n",
      "retweeted_status_timestamp    181 non-null datetime64[ns]\n",
      "expanded_urls                 2297 non-null object\n",
      "rating_numerator              2356 non-null int64\n",
      "rating_denominator            2356 non-null int64\n",
      "name                          2356 non-null object\n",
      "doggo                         2356 non-null object\n",
      "floofer                       2356 non-null object\n",
      "pupper                        2356 non-null object\n",
      "puppo                         2356 non-null object\n",
      "dtypes: datetime64[ns](2), float64(4), int64(3), object(8)\n",
      "memory usage: 313.0+ KB\n"
     ]
    }
   ],
   "source": [
    "archive_clean.info();"
   ]
  },
  {
   "cell_type": "markdown",
   "metadata": {},
   "source": [
    "<span style=\"color:Red; font-size: 1.5em\"> issue Q11\n",
    "    \n",
    "#### Define\n",
    "\n",
    "- change source values to: iPhone, Vine, Web, Tweetdeck\n",
    "\n",
    "#### Code"
   ]
  },
  {
   "cell_type": "code",
   "execution_count": 158,
   "metadata": {
    "scrolled": true
   },
   "outputs": [
    {
     "data": {
      "text/plain": [
       "<a href=\"http://twitter.com/download/iphone\" rel=\"nofollow\">Twitter for iPhone</a>     2221\n",
       "<a href=\"http://vine.co\" rel=\"nofollow\">Vine - Make a Scene</a>                          91\n",
       "<a href=\"http://twitter.com\" rel=\"nofollow\">Twitter Web Client</a>                       33\n",
       "<a href=\"https://about.twitter.com/products/tweetdeck\" rel=\"nofollow\">TweetDeck</a>      11\n",
       "Name: source, dtype: int64"
      ]
     },
     "execution_count": 158,
     "metadata": {},
     "output_type": "execute_result"
    }
   ],
   "source": [
    "archive_clean.source.value_counts()"
   ]
  },
  {
   "cell_type": "code",
   "execution_count": 110,
   "metadata": {},
   "outputs": [],
   "source": [
    "archive_clean.source=archive_clean.source.str.extract('(iPhone|Web|TweetDeck|Vine)',expand=True)"
   ]
  },
  {
   "cell_type": "markdown",
   "metadata": {},
   "source": [
    "#### Test"
   ]
  },
  {
   "cell_type": "code",
   "execution_count": 111,
   "metadata": {
    "scrolled": true
   },
   "outputs": [
    {
     "data": {
      "text/plain": [
       "iPhone       2221\n",
       "Vine           91\n",
       "Web            33\n",
       "TweetDeck      11\n",
       "Name: source, dtype: int64"
      ]
     },
     "execution_count": 111,
     "metadata": {},
     "output_type": "execute_result"
    }
   ],
   "source": [
    "archive_clean.source.value_counts()"
   ]
  },
  {
   "cell_type": "code",
   "execution_count": 215,
   "metadata": {},
   "outputs": [
    {
     "data": {
      "text/plain": [
       "0"
      ]
     },
     "execution_count": 215,
     "metadata": {},
     "output_type": "execute_result"
    }
   ],
   "source": [
    "# Number of tweet from Vine source which has image\n",
    "images_clean.tweet_id.isin(archive_clean[archive_clean.source == 'Vine'].tweet_id).sum()"
   ]
  },
  {
   "cell_type": "markdown",
   "metadata": {},
   "source": [
    "above code shows that none of the tweets with Vine source has image and in case we want to make the size of archive the same as image using shared tweet_ids, all of the Vine tweets will be removed from the dataset. instead we can separate them as a separate dataset and save them into a csv file."
   ]
  },
  {
   "cell_type": "code",
   "execution_count": 33,
   "metadata": {},
   "outputs": [],
   "source": [
    "vine_tweet=archive_clean[archive_clean.source == 'Vine'].copy()"
   ]
  },
  {
   "cell_type": "code",
   "execution_count": 34,
   "metadata": {},
   "outputs": [],
   "source": [
    "vine_tweet.to_csv('dog_vines.csv',index=False)"
   ]
  },
  {
   "cell_type": "code",
   "execution_count": 345,
   "metadata": {},
   "outputs": [],
   "source": [
    "vine_tweet.head();"
   ]
  },
  {
   "cell_type": "markdown",
   "metadata": {},
   "source": [
    "<span style=\"color:Red; font-size: 1.5em\"> issue Q3 <a id='Q3'></a>\n",
    "    \n",
    "#### Define\n",
    "- rename non-descriptive column titles in images p1,p1_conf. and drop p2-3,p2-3_conf as we don't use them later in our analysis.\n",
    "\n",
    "#### Code"
   ]
  },
  {
   "cell_type": "code",
   "execution_count": 104,
   "metadata": {
    "scrolled": true
   },
   "outputs": [
    {
     "data": {
      "text/html": [
       "<div>\n",
       "<style scoped>\n",
       "    .dataframe tbody tr th:only-of-type {\n",
       "        vertical-align: middle;\n",
       "    }\n",
       "\n",
       "    .dataframe tbody tr th {\n",
       "        vertical-align: top;\n",
       "    }\n",
       "\n",
       "    .dataframe thead th {\n",
       "        text-align: right;\n",
       "    }\n",
       "</style>\n",
       "<table border=\"1\" class=\"dataframe\">\n",
       "  <thead>\n",
       "    <tr style=\"text-align: right;\">\n",
       "      <th></th>\n",
       "      <th>tweet_id</th>\n",
       "      <th>jpg_url</th>\n",
       "      <th>img_num</th>\n",
       "      <th>prediction_1</th>\n",
       "      <th>p1_confidence</th>\n",
       "      <th>p1_dog</th>\n",
       "      <th>prediction_2</th>\n",
       "      <th>p2_confidence</th>\n",
       "      <th>p2_dog</th>\n",
       "      <th>prediction_3</th>\n",
       "      <th>p3_confidence</th>\n",
       "      <th>p3_dog</th>\n",
       "    </tr>\n",
       "  </thead>\n",
       "  <tbody>\n",
       "    <tr>\n",
       "      <th>0</th>\n",
       "      <td>666020888022790149</td>\n",
       "      <td>https://pbs.twimg.com/media/CT4udn0WwAA0aMy.jpg</td>\n",
       "      <td>1</td>\n",
       "      <td>Welsh_springer_spaniel</td>\n",
       "      <td>0.465074</td>\n",
       "      <td>True</td>\n",
       "      <td>collie</td>\n",
       "      <td>0.156665</td>\n",
       "      <td>True</td>\n",
       "      <td>Shetland_sheepdog</td>\n",
       "      <td>0.061428</td>\n",
       "      <td>True</td>\n",
       "    </tr>\n",
       "  </tbody>\n",
       "</table>\n",
       "</div>"
      ],
      "text/plain": [
       "             tweet_id                                          jpg_url  \\\n",
       "0  666020888022790149  https://pbs.twimg.com/media/CT4udn0WwAA0aMy.jpg   \n",
       "\n",
       "   img_num            prediction_1  p1_confidence  p1_dog prediction_2  \\\n",
       "0        1  Welsh_springer_spaniel       0.465074    True       collie   \n",
       "\n",
       "   p2_confidence  p2_dog       prediction_3  p3_confidence  p3_dog  \n",
       "0       0.156665    True  Shetland_sheepdog       0.061428    True  "
      ]
     },
     "execution_count": 104,
     "metadata": {},
     "output_type": "execute_result"
    }
   ],
   "source": [
    "images_clean.head(1)"
   ]
  },
  {
   "cell_type": "code",
   "execution_count": 112,
   "metadata": {},
   "outputs": [],
   "source": [
    "images_clean = images_clean.rename(columns={\"p1\": \"prediction_1\", \"p2\": \"prediction_2\",\n",
    "                                           'p3': \"prediction_3\", \"p1_conf\": \"p1_confidence\",\n",
    "                                           \"p2_conf\": \"p2_confidence\", \"p3_conf\": \"p3_confidence\"});"
   ]
  },
  {
   "cell_type": "markdown",
   "metadata": {},
   "source": [
    "<span style=\"color:Red; font-size: 1.5em\"> issue Q7 <a id='Q7'></a>\n",
    "    \n",
    "#### Define\n",
    "- change the data type in jsons for counts to integer\n",
    "\n",
    "#### Code"
   ]
  },
  {
   "cell_type": "code",
   "execution_count": 50,
   "metadata": {},
   "outputs": [
    {
     "name": "stdout",
     "output_type": "stream",
     "text": [
      "<class 'pandas.core.frame.DataFrame'>\n",
      "Int64Index: 2066 entries, 0 to 2337\n",
      "Data columns (total 3 columns):\n",
      "tweet_id          2066 non-null object\n",
      "retweet_count     2066 non-null object\n",
      "favorite_count    2066 non-null object\n",
      "dtypes: object(3)\n",
      "memory usage: 64.6+ KB\n"
     ]
    }
   ],
   "source": [
    "jsons_clean.info()"
   ]
  },
  {
   "cell_type": "code",
   "execution_count": 113,
   "metadata": {},
   "outputs": [],
   "source": [
    "jsons_clean.retweet_count=jsons_clean.retweet_count.astype('int64')\n",
    "jsons_clean.favorite_count=jsons_clean.favorite_count.astype('int64')"
   ]
  },
  {
   "cell_type": "markdown",
   "metadata": {},
   "source": [
    "#### Test"
   ]
  },
  {
   "cell_type": "code",
   "execution_count": 114,
   "metadata": {},
   "outputs": [
    {
     "name": "stdout",
     "output_type": "stream",
     "text": [
      "<class 'pandas.core.frame.DataFrame'>\n",
      "RangeIndex: 2354 entries, 0 to 2353\n",
      "Data columns (total 3 columns):\n",
      "tweet_id          2354 non-null object\n",
      "retweet_count     2354 non-null int64\n",
      "favorite_count    2354 non-null int64\n",
      "dtypes: int64(2), object(1)\n",
      "memory usage: 55.2+ KB\n"
     ]
    }
   ],
   "source": [
    "jsons_clean.info()"
   ]
  },
  {
   "cell_type": "markdown",
   "metadata": {},
   "source": [
    "<span style=\"color:Red; font-size: 1.5em\"> issue Q8, Q9, Q10 <a id='Q8'></a><a id='Q9'></a><a id='Q10'></a>\n",
    "    \n",
    "#### Define\n",
    "- Check records with any denominator other than 10 in archive and convert them into 10.\n",
    "- Rename numerator to rating_from_10 and drop denominator column\n",
    "\n",
    "#### Code"
   ]
  },
  {
   "cell_type": "code",
   "execution_count": 95,
   "metadata": {
    "scrolled": true
   },
   "outputs": [
    {
     "data": {
      "text/html": [
       "<div>\n",
       "<style scoped>\n",
       "    .dataframe tbody tr th:only-of-type {\n",
       "        vertical-align: middle;\n",
       "    }\n",
       "\n",
       "    .dataframe tbody tr th {\n",
       "        vertical-align: top;\n",
       "    }\n",
       "\n",
       "    .dataframe thead th {\n",
       "        text-align: right;\n",
       "    }\n",
       "</style>\n",
       "<table border=\"1\" class=\"dataframe\">\n",
       "  <thead>\n",
       "    <tr style=\"text-align: right;\">\n",
       "      <th></th>\n",
       "      <th>tweet_id</th>\n",
       "      <th>timestamp</th>\n",
       "      <th>source</th>\n",
       "      <th>text</th>\n",
       "      <th>expanded_urls</th>\n",
       "      <th>rating_numerator</th>\n",
       "      <th>rating_denominator</th>\n",
       "      <th>name</th>\n",
       "      <th>doggo</th>\n",
       "      <th>floofer</th>\n",
       "      <th>pupper</th>\n",
       "      <th>puppo</th>\n",
       "    </tr>\n",
       "  </thead>\n",
       "  <tbody>\n",
       "    <tr>\n",
       "      <th>0</th>\n",
       "      <td>892420643555336193</td>\n",
       "      <td>2017-08-01 16:23:56 +0000</td>\n",
       "      <td>&lt;a href=\"http://twitter.com/download/iphone\" r...</td>\n",
       "      <td>This is Phineas. He's a mystical boy. Only eve...</td>\n",
       "      <td>https://twitter.com/dog_rates/status/892420643...</td>\n",
       "      <td>13</td>\n",
       "      <td>10</td>\n",
       "      <td>Phineas</td>\n",
       "      <td>None</td>\n",
       "      <td>None</td>\n",
       "      <td>None</td>\n",
       "      <td>None</td>\n",
       "    </tr>\n",
       "  </tbody>\n",
       "</table>\n",
       "</div>"
      ],
      "text/plain": [
       "             tweet_id                  timestamp  \\\n",
       "0  892420643555336193  2017-08-01 16:23:56 +0000   \n",
       "\n",
       "                                              source  \\\n",
       "0  <a href=\"http://twitter.com/download/iphone\" r...   \n",
       "\n",
       "                                                text  \\\n",
       "0  This is Phineas. He's a mystical boy. Only eve...   \n",
       "\n",
       "                                       expanded_urls  rating_numerator  \\\n",
       "0  https://twitter.com/dog_rates/status/892420643...                13   \n",
       "\n",
       "   rating_denominator     name doggo floofer pupper puppo  \n",
       "0                  10  Phineas  None    None   None  None  "
      ]
     },
     "execution_count": 95,
     "metadata": {},
     "output_type": "execute_result"
    }
   ],
   "source": [
    "archive_clean.head(1)"
   ]
  },
  {
   "cell_type": "code",
   "execution_count": 126,
   "metadata": {
    "scrolled": true
   },
   "outputs": [
    {
     "name": "stdout",
     "output_type": "stream",
     "text": [
      "342: @docmisterio account started on 11/15/15\n",
      "11/15\n",
      "433: The floofs have been released I repeat the floofs have been released. 84/70 https://t.co/NIYC820tmd\n",
      "84/70\n",
      "516: Meet Sam. She smiles 24/7 &amp; secretly aspires to be a reindeer. \n",
      "Keep Sam smiling by clicking and sharing this link:\n",
      "https://t.co/98tB8y7y7t https://t.co/LouL5vdvxx\n",
      "24/7\n",
      "784: RT @dog_rates: After so many requests, this is Bretagne. She was the last surviving 9/11 search dog, and our second ever 14/10. RIP https:/…\n",
      "9/11\n",
      "902: Why does this never happen at my front door... 165/150 https://t.co/HmwrdfEfUE\n",
      "165/150\n",
      "1068: After so many requests, this is Bretagne. She was the last surviving 9/11 search dog, and our second ever 14/10. RIP https://t.co/XAVDNDaVgQ\n",
      "9/11\n",
      "1120: Say hello to this unbelievably well behaved squad of doggos. 204/170 would try to pet all at once https://t.co/yGQI3He3xv\n",
      "204/170\n",
      "1165: Happy 4/20 from the squad! 13/10 for all https://t.co/eV1diwds8a\n",
      "4/20\n",
      "1202: This is Bluebert. He just saw that both #FinalFur match ups are split 50/50. Amazed af. 11/10 https://t.co/Kky1DPG4iq\n",
      "50/50\n",
      "1228: Happy Saturday here's 9 puppers on a bench. 99/90 good work everybody https://t.co/mpvaVxKmc1\n",
      "99/90\n",
      "1254: Here's a brigade of puppers. All look very prepared for whatever happens next. 80/80 https://t.co/0eb7R1Om12\n",
      "80/80\n",
      "1274: From left to right:\n",
      "Cletus, Jerome, Alejandro, Burp, &amp; Titson\n",
      "None know where camera is. 45/50 would hug all at once https://t.co/sedre1ivTK\n",
      "45/50\n",
      "1351: Here is a whole flock of puppers.  60/50 I'll take the lot https://t.co/9dpcw6MdWa\n",
      "60/50\n",
      "1433: Happy Wednesday here's a bucket of pups. 44/40 would pet all at once https://t.co/HppvrYuamZ\n",
      "44/40\n",
      "1598: Yes I do realize a rating of 4/20 would've been fitting. However, it would be unjust to give these cooperative pups that low of a rating\n",
      "4/20\n",
      "1634: Two sneaky puppers were not initially seen, moving the rating to 143/130. Please forgive us. Thank you https://t.co/kRK51Y5ac3\n",
      "143/130\n",
      "1635: Someone help the girl is being mugged. Several are distracting her while two steal her shoes. Clever puppers 121/110 https://t.co/1zfnTJLt55\n",
      "121/110\n",
      "1662: This is Darrel. He just robbed a 7/11 and is in a high speed police chase. Was just spotted by the helicopter 10/10 https://t.co/7EsP8LmSp5\n",
      "7/11\n",
      "1663: I'm aware that I could've said 20/16, but here at WeRateDogs we are very professional. An inconsistent rating scale is simply irresponsible\n",
      "20/16\n",
      "1779: IT'S PUPPERGEDDON. Total of 144/120 ...I think https://t.co/ZanVtAtvIq\n",
      "144/120\n",
      "1843: Here we have an entire platoon of puppers. Total score: 88/80 would pet all at once https://t.co/y93p6FLvVw\n",
      "88/80\n",
      "2335: This is an Albanian 3 1/2 legged  Episcopalian. Loves well-polished hardwood flooring. Penis on the collar. 9/10 https://t.co/d9NcXFKwLv\n",
      "1/2\n"
     ]
    }
   ],
   "source": [
    "check=archive_clean[archive_clean.rating_denominator != 10]\n",
    "for i in check.index:\n",
    "    print(str(i)+': '+archive.text[i])\n",
    "    print(str(archive.rating_numerator[i])+'/'+str(archive.rating_denominator[i]))"
   ]
  },
  {
   "cell_type": "markdown",
   "metadata": {},
   "source": [
    "By visually inspecting the texts above it can be seen some dates and numbers are mistaken by ratings, which should be deleted from the dataframe.(record: 342,516)\n",
    "\n",
    "Moreover the numerator and denominator of some can be corrected manually.(record: 1202, 2335, 313, 1165,1662)\n",
    "which can be corrected individually as follow:"
   ]
  },
  {
   "cell_type": "code",
   "execution_count": 134,
   "metadata": {},
   "outputs": [],
   "source": [
    "archive_clean.loc[1202,'rating_numerator']=11\n",
    "archive_clean.loc[2335,'rating_numerator']=9\n",
    "archive_clean.loc[313,'rating_numerator']=13\n",
    "archive_clean.loc[313,'rating_denominator']=10\n",
    "archive_clean.loc[1165,'rating_numerator']=13\n",
    "archive_clean.loc[1165,'rating_denominator']=10\n",
    "archive_clean.loc[1662,'rating_numerator']=10\n",
    "archive_clean.loc[1662,'rating_denominator']=10\n",
    "archive_clean.loc[2335,'rating_numerator']=9\n",
    "archive_clean.loc[2335,'rating_denominator']=10"
   ]
  },
  {
   "cell_type": "code",
   "execution_count": 128,
   "metadata": {},
   "outputs": [],
   "source": [
    "ind_dro=[342, 516]\n",
    "archive_clean.drop(ind_dro,axis=0,inplace=True)"
   ]
  },
  {
   "cell_type": "code",
   "execution_count": 136,
   "metadata": {},
   "outputs": [],
   "source": [
    "arch=archive_clean.copy()\n",
    "arch.rating_numerator = (arch.rating_numerator / arch.rating_denominator * 10).astype('int64')"
   ]
  },
  {
   "cell_type": "code",
   "execution_count": 137,
   "metadata": {
    "scrolled": true
   },
   "outputs": [
    {
     "data": {
      "text/html": [
       "<div>\n",
       "<style scoped>\n",
       "    .dataframe tbody tr th:only-of-type {\n",
       "        vertical-align: middle;\n",
       "    }\n",
       "\n",
       "    .dataframe tbody tr th {\n",
       "        vertical-align: top;\n",
       "    }\n",
       "\n",
       "    .dataframe thead th {\n",
       "        text-align: right;\n",
       "    }\n",
       "</style>\n",
       "<table border=\"1\" class=\"dataframe\">\n",
       "  <thead>\n",
       "    <tr style=\"text-align: right;\">\n",
       "      <th></th>\n",
       "      <th>tweet_id</th>\n",
       "      <th>in_reply_to_status_id</th>\n",
       "      <th>in_reply_to_user_id</th>\n",
       "      <th>timestamp</th>\n",
       "      <th>source</th>\n",
       "      <th>text</th>\n",
       "      <th>retweeted_status_id</th>\n",
       "      <th>retweeted_status_user_id</th>\n",
       "      <th>retweeted_status_timestamp</th>\n",
       "      <th>expanded_urls</th>\n",
       "      <th>rating_numerator</th>\n",
       "      <th>rating_denominator</th>\n",
       "      <th>name</th>\n",
       "      <th>doggo</th>\n",
       "      <th>floofer</th>\n",
       "      <th>pupper</th>\n",
       "      <th>puppo</th>\n",
       "    </tr>\n",
       "  </thead>\n",
       "  <tbody>\n",
       "    <tr>\n",
       "      <th>433</th>\n",
       "      <td>820690176645140481</td>\n",
       "      <td>NaN</td>\n",
       "      <td>NaN</td>\n",
       "      <td>2017-01-15 17:52:40</td>\n",
       "      <td>iPhone</td>\n",
       "      <td>The floofs have been released I repeat the flo...</td>\n",
       "      <td>NaN</td>\n",
       "      <td>NaN</td>\n",
       "      <td>NaT</td>\n",
       "      <td>https://twitter.com/dog_rates/status/820690176...</td>\n",
       "      <td>12</td>\n",
       "      <td>70</td>\n",
       "      <td>None</td>\n",
       "      <td>None</td>\n",
       "      <td>None</td>\n",
       "      <td>None</td>\n",
       "      <td>None</td>\n",
       "    </tr>\n",
       "    <tr>\n",
       "      <th>784</th>\n",
       "      <td>775096608509886464</td>\n",
       "      <td>NaN</td>\n",
       "      <td>NaN</td>\n",
       "      <td>2016-09-11 22:20:06</td>\n",
       "      <td>iPhone</td>\n",
       "      <td>RT @dog_rates: After so many requests, this is...</td>\n",
       "      <td>7.403732e+17</td>\n",
       "      <td>4.196984e+09</td>\n",
       "      <td>2016-06-08 02:41:38</td>\n",
       "      <td>https://twitter.com/dog_rates/status/740373189...</td>\n",
       "      <td>8</td>\n",
       "      <td>11</td>\n",
       "      <td>None</td>\n",
       "      <td>None</td>\n",
       "      <td>None</td>\n",
       "      <td>None</td>\n",
       "      <td>None</td>\n",
       "    </tr>\n",
       "    <tr>\n",
       "      <th>902</th>\n",
       "      <td>758467244762497024</td>\n",
       "      <td>NaN</td>\n",
       "      <td>NaN</td>\n",
       "      <td>2016-07-28 01:00:57</td>\n",
       "      <td>iPhone</td>\n",
       "      <td>Why does this never happen at my front door......</td>\n",
       "      <td>NaN</td>\n",
       "      <td>NaN</td>\n",
       "      <td>NaT</td>\n",
       "      <td>https://twitter.com/dog_rates/status/758467244...</td>\n",
       "      <td>11</td>\n",
       "      <td>150</td>\n",
       "      <td>None</td>\n",
       "      <td>None</td>\n",
       "      <td>None</td>\n",
       "      <td>None</td>\n",
       "      <td>None</td>\n",
       "    </tr>\n",
       "    <tr>\n",
       "      <th>1068</th>\n",
       "      <td>740373189193256964</td>\n",
       "      <td>NaN</td>\n",
       "      <td>NaN</td>\n",
       "      <td>2016-06-08 02:41:38</td>\n",
       "      <td>iPhone</td>\n",
       "      <td>After so many requests, this is Bretagne. She ...</td>\n",
       "      <td>NaN</td>\n",
       "      <td>NaN</td>\n",
       "      <td>NaT</td>\n",
       "      <td>https://twitter.com/dog_rates/status/740373189...</td>\n",
       "      <td>8</td>\n",
       "      <td>11</td>\n",
       "      <td>None</td>\n",
       "      <td>None</td>\n",
       "      <td>None</td>\n",
       "      <td>None</td>\n",
       "      <td>None</td>\n",
       "    </tr>\n",
       "    <tr>\n",
       "      <th>1120</th>\n",
       "      <td>731156023742988288</td>\n",
       "      <td>NaN</td>\n",
       "      <td>NaN</td>\n",
       "      <td>2016-05-13 16:15:54</td>\n",
       "      <td>iPhone</td>\n",
       "      <td>Say hello to this unbelievably well behaved sq...</td>\n",
       "      <td>NaN</td>\n",
       "      <td>NaN</td>\n",
       "      <td>NaT</td>\n",
       "      <td>https://twitter.com/dog_rates/status/731156023...</td>\n",
       "      <td>12</td>\n",
       "      <td>170</td>\n",
       "      <td>this</td>\n",
       "      <td>None</td>\n",
       "      <td>None</td>\n",
       "      <td>None</td>\n",
       "      <td>None</td>\n",
       "    </tr>\n",
       "    <tr>\n",
       "      <th>1202</th>\n",
       "      <td>716439118184652801</td>\n",
       "      <td>NaN</td>\n",
       "      <td>NaN</td>\n",
       "      <td>2016-04-03 01:36:11</td>\n",
       "      <td>iPhone</td>\n",
       "      <td>This is Bluebert. He just saw that both #Final...</td>\n",
       "      <td>NaN</td>\n",
       "      <td>NaN</td>\n",
       "      <td>NaT</td>\n",
       "      <td>https://twitter.com/dog_rates/status/716439118...</td>\n",
       "      <td>2</td>\n",
       "      <td>50</td>\n",
       "      <td>Bluebert</td>\n",
       "      <td>None</td>\n",
       "      <td>None</td>\n",
       "      <td>None</td>\n",
       "      <td>None</td>\n",
       "    </tr>\n",
       "    <tr>\n",
       "      <th>1228</th>\n",
       "      <td>713900603437621249</td>\n",
       "      <td>NaN</td>\n",
       "      <td>NaN</td>\n",
       "      <td>2016-03-27 01:29:02</td>\n",
       "      <td>iPhone</td>\n",
       "      <td>Happy Saturday here's 9 puppers on a bench. 99...</td>\n",
       "      <td>NaN</td>\n",
       "      <td>NaN</td>\n",
       "      <td>NaT</td>\n",
       "      <td>https://twitter.com/dog_rates/status/713900603...</td>\n",
       "      <td>11</td>\n",
       "      <td>90</td>\n",
       "      <td>None</td>\n",
       "      <td>None</td>\n",
       "      <td>None</td>\n",
       "      <td>None</td>\n",
       "      <td>None</td>\n",
       "    </tr>\n",
       "    <tr>\n",
       "      <th>1254</th>\n",
       "      <td>710658690886586372</td>\n",
       "      <td>NaN</td>\n",
       "      <td>NaN</td>\n",
       "      <td>2016-03-18 02:46:49</td>\n",
       "      <td>iPhone</td>\n",
       "      <td>Here's a brigade of puppers. All look very pre...</td>\n",
       "      <td>NaN</td>\n",
       "      <td>NaN</td>\n",
       "      <td>NaT</td>\n",
       "      <td>https://twitter.com/dog_rates/status/710658690...</td>\n",
       "      <td>10</td>\n",
       "      <td>80</td>\n",
       "      <td>None</td>\n",
       "      <td>None</td>\n",
       "      <td>None</td>\n",
       "      <td>None</td>\n",
       "      <td>None</td>\n",
       "    </tr>\n",
       "    <tr>\n",
       "      <th>1274</th>\n",
       "      <td>709198395643068416</td>\n",
       "      <td>NaN</td>\n",
       "      <td>NaN</td>\n",
       "      <td>2016-03-14 02:04:08</td>\n",
       "      <td>iPhone</td>\n",
       "      <td>From left to right:\\nCletus, Jerome, Alejandro...</td>\n",
       "      <td>NaN</td>\n",
       "      <td>NaN</td>\n",
       "      <td>NaT</td>\n",
       "      <td>https://twitter.com/dog_rates/status/709198395...</td>\n",
       "      <td>9</td>\n",
       "      <td>50</td>\n",
       "      <td>None</td>\n",
       "      <td>None</td>\n",
       "      <td>None</td>\n",
       "      <td>None</td>\n",
       "      <td>None</td>\n",
       "    </tr>\n",
       "    <tr>\n",
       "      <th>1351</th>\n",
       "      <td>704054845121142784</td>\n",
       "      <td>NaN</td>\n",
       "      <td>NaN</td>\n",
       "      <td>2016-02-28 21:25:30</td>\n",
       "      <td>iPhone</td>\n",
       "      <td>Here is a whole flock of puppers.  60/50 I'll ...</td>\n",
       "      <td>NaN</td>\n",
       "      <td>NaN</td>\n",
       "      <td>NaT</td>\n",
       "      <td>https://twitter.com/dog_rates/status/704054845...</td>\n",
       "      <td>12</td>\n",
       "      <td>50</td>\n",
       "      <td>a</td>\n",
       "      <td>None</td>\n",
       "      <td>None</td>\n",
       "      <td>None</td>\n",
       "      <td>None</td>\n",
       "    </tr>\n",
       "    <tr>\n",
       "      <th>1433</th>\n",
       "      <td>697463031882764288</td>\n",
       "      <td>NaN</td>\n",
       "      <td>NaN</td>\n",
       "      <td>2016-02-10 16:51:59</td>\n",
       "      <td>iPhone</td>\n",
       "      <td>Happy Wednesday here's a bucket of pups. 44/40...</td>\n",
       "      <td>NaN</td>\n",
       "      <td>NaN</td>\n",
       "      <td>NaT</td>\n",
       "      <td>https://twitter.com/dog_rates/status/697463031...</td>\n",
       "      <td>11</td>\n",
       "      <td>40</td>\n",
       "      <td>None</td>\n",
       "      <td>None</td>\n",
       "      <td>None</td>\n",
       "      <td>None</td>\n",
       "      <td>None</td>\n",
       "    </tr>\n",
       "    <tr>\n",
       "      <th>1598</th>\n",
       "      <td>686035780142297088</td>\n",
       "      <td>6.860340e+17</td>\n",
       "      <td>4.196984e+09</td>\n",
       "      <td>2016-01-10 04:04:10</td>\n",
       "      <td>iPhone</td>\n",
       "      <td>Yes I do realize a rating of 4/20 would've bee...</td>\n",
       "      <td>NaN</td>\n",
       "      <td>NaN</td>\n",
       "      <td>NaT</td>\n",
       "      <td>NaN</td>\n",
       "      <td>2</td>\n",
       "      <td>20</td>\n",
       "      <td>None</td>\n",
       "      <td>None</td>\n",
       "      <td>None</td>\n",
       "      <td>None</td>\n",
       "      <td>None</td>\n",
       "    </tr>\n",
       "    <tr>\n",
       "      <th>1634</th>\n",
       "      <td>684225744407494656</td>\n",
       "      <td>6.842229e+17</td>\n",
       "      <td>4.196984e+09</td>\n",
       "      <td>2016-01-05 04:11:44</td>\n",
       "      <td>iPhone</td>\n",
       "      <td>Two sneaky puppers were not initially seen, mo...</td>\n",
       "      <td>NaN</td>\n",
       "      <td>NaN</td>\n",
       "      <td>NaT</td>\n",
       "      <td>https://twitter.com/dog_rates/status/684225744...</td>\n",
       "      <td>11</td>\n",
       "      <td>130</td>\n",
       "      <td>None</td>\n",
       "      <td>None</td>\n",
       "      <td>None</td>\n",
       "      <td>None</td>\n",
       "      <td>None</td>\n",
       "    </tr>\n",
       "    <tr>\n",
       "      <th>1635</th>\n",
       "      <td>684222868335505415</td>\n",
       "      <td>NaN</td>\n",
       "      <td>NaN</td>\n",
       "      <td>2016-01-05 04:00:18</td>\n",
       "      <td>iPhone</td>\n",
       "      <td>Someone help the girl is being mugged. Several...</td>\n",
       "      <td>NaN</td>\n",
       "      <td>NaN</td>\n",
       "      <td>NaT</td>\n",
       "      <td>https://twitter.com/dog_rates/status/684222868...</td>\n",
       "      <td>11</td>\n",
       "      <td>110</td>\n",
       "      <td>None</td>\n",
       "      <td>None</td>\n",
       "      <td>None</td>\n",
       "      <td>None</td>\n",
       "      <td>None</td>\n",
       "    </tr>\n",
       "    <tr>\n",
       "      <th>1663</th>\n",
       "      <td>682808988178739200</td>\n",
       "      <td>6.827884e+17</td>\n",
       "      <td>4.196984e+09</td>\n",
       "      <td>2016-01-01 06:22:03</td>\n",
       "      <td>iPhone</td>\n",
       "      <td>I'm aware that I could've said 20/16, but here...</td>\n",
       "      <td>NaN</td>\n",
       "      <td>NaN</td>\n",
       "      <td>NaT</td>\n",
       "      <td>NaN</td>\n",
       "      <td>12</td>\n",
       "      <td>16</td>\n",
       "      <td>None</td>\n",
       "      <td>None</td>\n",
       "      <td>None</td>\n",
       "      <td>None</td>\n",
       "      <td>None</td>\n",
       "    </tr>\n",
       "    <tr>\n",
       "      <th>1779</th>\n",
       "      <td>677716515794329600</td>\n",
       "      <td>NaN</td>\n",
       "      <td>NaN</td>\n",
       "      <td>2015-12-18 05:06:23</td>\n",
       "      <td>iPhone</td>\n",
       "      <td>IT'S PUPPERGEDDON. Total of 144/120 ...I think...</td>\n",
       "      <td>NaN</td>\n",
       "      <td>NaN</td>\n",
       "      <td>NaT</td>\n",
       "      <td>https://twitter.com/dog_rates/status/677716515...</td>\n",
       "      <td>12</td>\n",
       "      <td>120</td>\n",
       "      <td>None</td>\n",
       "      <td>None</td>\n",
       "      <td>None</td>\n",
       "      <td>None</td>\n",
       "      <td>None</td>\n",
       "    </tr>\n",
       "    <tr>\n",
       "      <th>1843</th>\n",
       "      <td>675853064436391936</td>\n",
       "      <td>NaN</td>\n",
       "      <td>NaN</td>\n",
       "      <td>2015-12-13 01:41:41</td>\n",
       "      <td>iPhone</td>\n",
       "      <td>Here we have an entire platoon of puppers. Tot...</td>\n",
       "      <td>NaN</td>\n",
       "      <td>NaN</td>\n",
       "      <td>NaT</td>\n",
       "      <td>https://twitter.com/dog_rates/status/675853064...</td>\n",
       "      <td>11</td>\n",
       "      <td>80</td>\n",
       "      <td>None</td>\n",
       "      <td>None</td>\n",
       "      <td>None</td>\n",
       "      <td>None</td>\n",
       "      <td>None</td>\n",
       "    </tr>\n",
       "  </tbody>\n",
       "</table>\n",
       "</div>"
      ],
      "text/plain": [
       "                tweet_id  in_reply_to_status_id  in_reply_to_user_id  \\\n",
       "433   820690176645140481                    NaN                  NaN   \n",
       "784   775096608509886464                    NaN                  NaN   \n",
       "902   758467244762497024                    NaN                  NaN   \n",
       "1068  740373189193256964                    NaN                  NaN   \n",
       "1120  731156023742988288                    NaN                  NaN   \n",
       "1202  716439118184652801                    NaN                  NaN   \n",
       "1228  713900603437621249                    NaN                  NaN   \n",
       "1254  710658690886586372                    NaN                  NaN   \n",
       "1274  709198395643068416                    NaN                  NaN   \n",
       "1351  704054845121142784                    NaN                  NaN   \n",
       "1433  697463031882764288                    NaN                  NaN   \n",
       "1598  686035780142297088           6.860340e+17         4.196984e+09   \n",
       "1634  684225744407494656           6.842229e+17         4.196984e+09   \n",
       "1635  684222868335505415                    NaN                  NaN   \n",
       "1663  682808988178739200           6.827884e+17         4.196984e+09   \n",
       "1779  677716515794329600                    NaN                  NaN   \n",
       "1843  675853064436391936                    NaN                  NaN   \n",
       "\n",
       "               timestamp  source  \\\n",
       "433  2017-01-15 17:52:40  iPhone   \n",
       "784  2016-09-11 22:20:06  iPhone   \n",
       "902  2016-07-28 01:00:57  iPhone   \n",
       "1068 2016-06-08 02:41:38  iPhone   \n",
       "1120 2016-05-13 16:15:54  iPhone   \n",
       "1202 2016-04-03 01:36:11  iPhone   \n",
       "1228 2016-03-27 01:29:02  iPhone   \n",
       "1254 2016-03-18 02:46:49  iPhone   \n",
       "1274 2016-03-14 02:04:08  iPhone   \n",
       "1351 2016-02-28 21:25:30  iPhone   \n",
       "1433 2016-02-10 16:51:59  iPhone   \n",
       "1598 2016-01-10 04:04:10  iPhone   \n",
       "1634 2016-01-05 04:11:44  iPhone   \n",
       "1635 2016-01-05 04:00:18  iPhone   \n",
       "1663 2016-01-01 06:22:03  iPhone   \n",
       "1779 2015-12-18 05:06:23  iPhone   \n",
       "1843 2015-12-13 01:41:41  iPhone   \n",
       "\n",
       "                                                   text  retweeted_status_id  \\\n",
       "433   The floofs have been released I repeat the flo...                  NaN   \n",
       "784   RT @dog_rates: After so many requests, this is...         7.403732e+17   \n",
       "902   Why does this never happen at my front door......                  NaN   \n",
       "1068  After so many requests, this is Bretagne. She ...                  NaN   \n",
       "1120  Say hello to this unbelievably well behaved sq...                  NaN   \n",
       "1202  This is Bluebert. He just saw that both #Final...                  NaN   \n",
       "1228  Happy Saturday here's 9 puppers on a bench. 99...                  NaN   \n",
       "1254  Here's a brigade of puppers. All look very pre...                  NaN   \n",
       "1274  From left to right:\\nCletus, Jerome, Alejandro...                  NaN   \n",
       "1351  Here is a whole flock of puppers.  60/50 I'll ...                  NaN   \n",
       "1433  Happy Wednesday here's a bucket of pups. 44/40...                  NaN   \n",
       "1598  Yes I do realize a rating of 4/20 would've bee...                  NaN   \n",
       "1634  Two sneaky puppers were not initially seen, mo...                  NaN   \n",
       "1635  Someone help the girl is being mugged. Several...                  NaN   \n",
       "1663  I'm aware that I could've said 20/16, but here...                  NaN   \n",
       "1779  IT'S PUPPERGEDDON. Total of 144/120 ...I think...                  NaN   \n",
       "1843  Here we have an entire platoon of puppers. Tot...                  NaN   \n",
       "\n",
       "      retweeted_status_user_id retweeted_status_timestamp  \\\n",
       "433                        NaN                        NaT   \n",
       "784               4.196984e+09        2016-06-08 02:41:38   \n",
       "902                        NaN                        NaT   \n",
       "1068                       NaN                        NaT   \n",
       "1120                       NaN                        NaT   \n",
       "1202                       NaN                        NaT   \n",
       "1228                       NaN                        NaT   \n",
       "1254                       NaN                        NaT   \n",
       "1274                       NaN                        NaT   \n",
       "1351                       NaN                        NaT   \n",
       "1433                       NaN                        NaT   \n",
       "1598                       NaN                        NaT   \n",
       "1634                       NaN                        NaT   \n",
       "1635                       NaN                        NaT   \n",
       "1663                       NaN                        NaT   \n",
       "1779                       NaN                        NaT   \n",
       "1843                       NaN                        NaT   \n",
       "\n",
       "                                          expanded_urls  rating_numerator  \\\n",
       "433   https://twitter.com/dog_rates/status/820690176...                12   \n",
       "784   https://twitter.com/dog_rates/status/740373189...                 8   \n",
       "902   https://twitter.com/dog_rates/status/758467244...                11   \n",
       "1068  https://twitter.com/dog_rates/status/740373189...                 8   \n",
       "1120  https://twitter.com/dog_rates/status/731156023...                12   \n",
       "1202  https://twitter.com/dog_rates/status/716439118...                 2   \n",
       "1228  https://twitter.com/dog_rates/status/713900603...                11   \n",
       "1254  https://twitter.com/dog_rates/status/710658690...                10   \n",
       "1274  https://twitter.com/dog_rates/status/709198395...                 9   \n",
       "1351  https://twitter.com/dog_rates/status/704054845...                12   \n",
       "1433  https://twitter.com/dog_rates/status/697463031...                11   \n",
       "1598                                                NaN                 2   \n",
       "1634  https://twitter.com/dog_rates/status/684225744...                11   \n",
       "1635  https://twitter.com/dog_rates/status/684222868...                11   \n",
       "1663                                                NaN                12   \n",
       "1779  https://twitter.com/dog_rates/status/677716515...                12   \n",
       "1843  https://twitter.com/dog_rates/status/675853064...                11   \n",
       "\n",
       "      rating_denominator      name doggo floofer pupper puppo  \n",
       "433                   70      None  None    None   None  None  \n",
       "784                   11      None  None    None   None  None  \n",
       "902                  150      None  None    None   None  None  \n",
       "1068                  11      None  None    None   None  None  \n",
       "1120                 170      this  None    None   None  None  \n",
       "1202                  50  Bluebert  None    None   None  None  \n",
       "1228                  90      None  None    None   None  None  \n",
       "1254                  80      None  None    None   None  None  \n",
       "1274                  50      None  None    None   None  None  \n",
       "1351                  50         a  None    None   None  None  \n",
       "1433                  40      None  None    None   None  None  \n",
       "1598                  20      None  None    None   None  None  \n",
       "1634                 130      None  None    None   None  None  \n",
       "1635                 110      None  None    None   None  None  \n",
       "1663                  16      None  None    None   None  None  \n",
       "1779                 120      None  None    None   None  None  \n",
       "1843                  80      None  None    None   None  None  "
      ]
     },
     "execution_count": 137,
     "metadata": {},
     "output_type": "execute_result"
    }
   ],
   "source": [
    "arch[arch.rating_denominator != 10]"
   ]
  },
  {
   "cell_type": "markdown",
   "metadata": {},
   "source": [
    "Now drop the denominator column as it only contain value 0f 10 for all records and has no useful info"
   ]
  },
  {
   "cell_type": "code",
   "execution_count": 138,
   "metadata": {},
   "outputs": [],
   "source": [
    "arch.drop('rating_denominator',axis=1,inplace=True)"
   ]
  },
  {
   "cell_type": "markdown",
   "metadata": {},
   "source": [
    "change the name of numerator to rating_from_10"
   ]
  },
  {
   "cell_type": "code",
   "execution_count": 139,
   "metadata": {},
   "outputs": [],
   "source": [
    "arch.rename(columns={'rating_numerator':'rating_from_10'},inplace=True)"
   ]
  },
  {
   "cell_type": "markdown",
   "metadata": {},
   "source": [
    "#### Test"
   ]
  },
  {
   "cell_type": "code",
   "execution_count": 140,
   "metadata": {},
   "outputs": [
    {
     "data": {
      "text/html": [
       "<div>\n",
       "<style scoped>\n",
       "    .dataframe tbody tr th:only-of-type {\n",
       "        vertical-align: middle;\n",
       "    }\n",
       "\n",
       "    .dataframe tbody tr th {\n",
       "        vertical-align: top;\n",
       "    }\n",
       "\n",
       "    .dataframe thead th {\n",
       "        text-align: right;\n",
       "    }\n",
       "</style>\n",
       "<table border=\"1\" class=\"dataframe\">\n",
       "  <thead>\n",
       "    <tr style=\"text-align: right;\">\n",
       "      <th></th>\n",
       "      <th>tweet_id</th>\n",
       "      <th>in_reply_to_status_id</th>\n",
       "      <th>in_reply_to_user_id</th>\n",
       "      <th>timestamp</th>\n",
       "      <th>source</th>\n",
       "      <th>text</th>\n",
       "      <th>retweeted_status_id</th>\n",
       "      <th>retweeted_status_user_id</th>\n",
       "      <th>retweeted_status_timestamp</th>\n",
       "      <th>expanded_urls</th>\n",
       "      <th>rating_from_10</th>\n",
       "      <th>name</th>\n",
       "      <th>doggo</th>\n",
       "      <th>floofer</th>\n",
       "      <th>pupper</th>\n",
       "      <th>puppo</th>\n",
       "    </tr>\n",
       "  </thead>\n",
       "  <tbody>\n",
       "    <tr>\n",
       "      <th>0</th>\n",
       "      <td>892420643555336193</td>\n",
       "      <td>NaN</td>\n",
       "      <td>NaN</td>\n",
       "      <td>2017-08-01 16:23:56</td>\n",
       "      <td>iPhone</td>\n",
       "      <td>This is Phineas. He's a mystical boy. Only eve...</td>\n",
       "      <td>NaN</td>\n",
       "      <td>NaN</td>\n",
       "      <td>NaT</td>\n",
       "      <td>https://twitter.com/dog_rates/status/892420643...</td>\n",
       "      <td>13</td>\n",
       "      <td>Phineas</td>\n",
       "      <td>None</td>\n",
       "      <td>None</td>\n",
       "      <td>None</td>\n",
       "      <td>None</td>\n",
       "    </tr>\n",
       "    <tr>\n",
       "      <th>1</th>\n",
       "      <td>892177421306343426</td>\n",
       "      <td>NaN</td>\n",
       "      <td>NaN</td>\n",
       "      <td>2017-08-01 00:17:27</td>\n",
       "      <td>iPhone</td>\n",
       "      <td>This is Tilly. She's just checking pup on you....</td>\n",
       "      <td>NaN</td>\n",
       "      <td>NaN</td>\n",
       "      <td>NaT</td>\n",
       "      <td>https://twitter.com/dog_rates/status/892177421...</td>\n",
       "      <td>13</td>\n",
       "      <td>Tilly</td>\n",
       "      <td>None</td>\n",
       "      <td>None</td>\n",
       "      <td>None</td>\n",
       "      <td>None</td>\n",
       "    </tr>\n",
       "  </tbody>\n",
       "</table>\n",
       "</div>"
      ],
      "text/plain": [
       "             tweet_id  in_reply_to_status_id  in_reply_to_user_id  \\\n",
       "0  892420643555336193                    NaN                  NaN   \n",
       "1  892177421306343426                    NaN                  NaN   \n",
       "\n",
       "            timestamp  source  \\\n",
       "0 2017-08-01 16:23:56  iPhone   \n",
       "1 2017-08-01 00:17:27  iPhone   \n",
       "\n",
       "                                                text  retweeted_status_id  \\\n",
       "0  This is Phineas. He's a mystical boy. Only eve...                  NaN   \n",
       "1  This is Tilly. She's just checking pup on you....                  NaN   \n",
       "\n",
       "   retweeted_status_user_id retweeted_status_timestamp  \\\n",
       "0                       NaN                        NaT   \n",
       "1                       NaN                        NaT   \n",
       "\n",
       "                                       expanded_urls  rating_from_10     name  \\\n",
       "0  https://twitter.com/dog_rates/status/892420643...              13  Phineas   \n",
       "1  https://twitter.com/dog_rates/status/892177421...              13    Tilly   \n",
       "\n",
       "  doggo floofer pupper puppo  \n",
       "0  None    None   None  None  \n",
       "1  None    None   None  None  "
      ]
     },
     "execution_count": 140,
     "metadata": {},
     "output_type": "execute_result"
    }
   ],
   "source": [
    "arch.head(2)"
   ]
  },
  {
   "cell_type": "code",
   "execution_count": 141,
   "metadata": {},
   "outputs": [
    {
     "data": {
      "text/plain": [
       "(2354, 16)"
      ]
     },
     "execution_count": 141,
     "metadata": {},
     "output_type": "execute_result"
    }
   ],
   "source": [
    "arch.shape"
   ]
  },
  {
   "cell_type": "code",
   "execution_count": 142,
   "metadata": {},
   "outputs": [],
   "source": [
    "archive_clean=arch.copy()"
   ]
  },
  {
   "cell_type": "markdown",
   "metadata": {},
   "source": [
    " <a id='Q13'></a>\n",
    "<span style=\"color:Red; font-size: 1.5em\"> issue Q13\n",
    "    \n",
    "#### Define\n",
    "Drop all the record with not null value of retweeted_status_id \n",
    "#### Code"
   ]
  },
  {
   "cell_type": "code",
   "execution_count": 143,
   "metadata": {},
   "outputs": [],
   "source": [
    "arch3=archive_clean.copy()"
   ]
  },
  {
   "cell_type": "code",
   "execution_count": 144,
   "metadata": {},
   "outputs": [
    {
     "data": {
      "text/plain": [
       "181"
      ]
     },
     "execution_count": 144,
     "metadata": {},
     "output_type": "execute_result"
    }
   ],
   "source": [
    "arch3[arch3.retweeted_status_user_id.notnull()].tweet_id.count()"
   ]
  },
  {
   "cell_type": "code",
   "execution_count": 52,
   "metadata": {},
   "outputs": [],
   "source": [
    "# arch1[arch1.notnull['in_reply_to_status_id','in_reply_to_user_id','retweeted_status_id',\n",
    "#                'retweeted_status_user_id','tweet_id']]= archive[archive.notnull[\n",
    "#     'in_reply_to_status_id','in_reply_to_user_id','retweeted_status_id','retweeted_status_user_id','tweet_id']].astype(int)"
   ]
  },
  {
   "cell_type": "code",
   "execution_count": 145,
   "metadata": {},
   "outputs": [
    {
     "data": {
      "text/plain": [
       "(2173, 16)"
      ]
     },
     "execution_count": 145,
     "metadata": {},
     "output_type": "execute_result"
    }
   ],
   "source": [
    "arch3=arch3[arch3.retweeted_status_user_id.isnull()]\n",
    "arch3.shape"
   ]
  },
  {
   "cell_type": "markdown",
   "metadata": {},
   "source": [
    "### Test"
   ]
  },
  {
   "cell_type": "code",
   "execution_count": 146,
   "metadata": {
    "scrolled": true
   },
   "outputs": [
    {
     "data": {
      "text/plain": [
       "0"
      ]
     },
     "execution_count": 146,
     "metadata": {},
     "output_type": "execute_result"
    }
   ],
   "source": [
    "arch3[arch3.retweeted_status_id.notnull()].tweet_id.count()"
   ]
  },
  {
   "cell_type": "markdown",
   "metadata": {},
   "source": [
    "Now drop these retweet columns"
   ]
  },
  {
   "cell_type": "code",
   "execution_count": 147,
   "metadata": {},
   "outputs": [],
   "source": [
    "dr_col=['in_reply_to_status_id','in_reply_to_user_id','retweeted_status_id'\n",
    "        ,'retweeted_status_user_id','retweeted_status_timestamp']\n",
    "\n",
    "arch3.drop(dr_col,axis=1,inplace=True)"
   ]
  },
  {
   "cell_type": "code",
   "execution_count": 148,
   "metadata": {},
   "outputs": [
    {
     "name": "stdout",
     "output_type": "stream",
     "text": [
      "<class 'pandas.core.frame.DataFrame'>\n",
      "Int64Index: 2173 entries, 0 to 2355\n",
      "Data columns (total 11 columns):\n",
      "tweet_id          2173 non-null int64\n",
      "timestamp         2173 non-null datetime64[ns]\n",
      "source            2173 non-null object\n",
      "text              2173 non-null object\n",
      "expanded_urls     2116 non-null object\n",
      "rating_from_10    2173 non-null int64\n",
      "name              2173 non-null object\n",
      "doggo             2173 non-null object\n",
      "floofer           2173 non-null object\n",
      "pupper            2173 non-null object\n",
      "puppo             2173 non-null object\n",
      "dtypes: datetime64[ns](1), int64(2), object(8)\n",
      "memory usage: 203.7+ KB\n"
     ]
    }
   ],
   "source": [
    "arch3.info()"
   ]
  },
  {
   "cell_type": "code",
   "execution_count": 149,
   "metadata": {},
   "outputs": [],
   "source": [
    "archive_clean=arch3.copy()"
   ]
  },
  {
   "cell_type": "markdown",
   "metadata": {},
   "source": [
    "<span style=\"color:Red; font-size: 1.5em\"> issue T1 <a id='T1'></a>\n",
    "    \n",
    "#### Define\n",
    "Convert doggo, floofer, pupper, puppo, and none to categories in a single column\n",
    "#### Code"
   ]
  },
  {
   "cell_type": "code",
   "execution_count": 190,
   "metadata": {},
   "outputs": [
    {
     "data": {
      "text/plain": [
       "1"
      ]
     },
     "execution_count": 190,
     "metadata": {},
     "output_type": "execute_result"
    }
   ],
   "source": [
    "((archive_clean.doggo !='None') & (archive_clean.floofer !='None')).sum()"
   ]
  },
  {
   "cell_type": "code",
   "execution_count": 150,
   "metadata": {
    "scrolled": true
   },
   "outputs": [
    {
     "data": {
      "text/plain": [
       "10"
      ]
     },
     "execution_count": 150,
     "metadata": {},
     "output_type": "execute_result"
    }
   ],
   "source": [
    "((archive_clean.doggo !='None') & (archive_clean.pupper !='None')).sum()"
   ]
  },
  {
   "cell_type": "code",
   "execution_count": 192,
   "metadata": {},
   "outputs": [
    {
     "data": {
      "text/plain": [
       "1"
      ]
     },
     "execution_count": 192,
     "metadata": {},
     "output_type": "execute_result"
    }
   ],
   "source": [
    "((archive_clean.doggo !='None') & (archive_clean.puppo !='None')).sum()"
   ]
  },
  {
   "cell_type": "code",
   "execution_count": 384,
   "metadata": {},
   "outputs": [
    {
     "data": {
      "text/plain": [
       "0"
      ]
     },
     "execution_count": 384,
     "metadata": {},
     "output_type": "execute_result"
    }
   ],
   "source": [
    "((archive_clean.floofer !='None') & (archive_clean.puppo !='None')).sum()"
   ]
  },
  {
   "cell_type": "code",
   "execution_count": 385,
   "metadata": {},
   "outputs": [
    {
     "data": {
      "text/plain": [
       "0"
      ]
     },
     "execution_count": 385,
     "metadata": {},
     "output_type": "execute_result"
    }
   ],
   "source": [
    "((archive_clean.floofer !='None') & (archive_clean.puppo !='None')).sum()"
   ]
  },
  {
   "cell_type": "code",
   "execution_count": 392,
   "metadata": {},
   "outputs": [
    {
     "data": {
      "text/plain": [
       "0"
      ]
     },
     "execution_count": 392,
     "metadata": {},
     "output_type": "execute_result"
    }
   ],
   "source": [
    "((archive_clean.pupper !='None') & (archive_clean.puppo !='None')).sum()"
   ]
  },
  {
   "cell_type": "code",
   "execution_count": 151,
   "metadata": {},
   "outputs": [
    {
     "data": {
      "text/plain": [
       "(2173, 2354, 2075)"
      ]
     },
     "execution_count": 151,
     "metadata": {},
     "output_type": "execute_result"
    }
   ],
   "source": [
    "archive_clean.shape[0],jsons_clean.shape[0],images_clean.shape[0]"
   ]
  },
  {
   "cell_type": "code",
   "execution_count": 152,
   "metadata": {},
   "outputs": [
    {
     "data": {
      "text/plain": [
       "1829"
      ]
     },
     "execution_count": 152,
     "metadata": {},
     "output_type": "execute_result"
    }
   ],
   "source": [
    "((archive_clean.floofer =='None') & (archive_clean.puppo =='None') &\n",
    " (archive_clean.pupper =='None') & (archive_clean.doggo =='None')).sum()"
   ]
  },
  {
   "cell_type": "markdown",
   "metadata": {},
   "source": [
    "There are 1829 records without any stage. we can check if any stage is mentioned in the text."
   ]
  },
  {
   "cell_type": "code",
   "execution_count": 153,
   "metadata": {},
   "outputs": [],
   "source": [
    "# archive_clean[archive_clean['text'].str.contains(\"doggo|pupp|floof\")].tweet_id.count()\n",
    "arch_txt=archive_clean[(archive_clean.floofer =='None') & (archive_clean.puppo =='None')\n",
    "              & (archive_clean.pupper =='None') & (archive_clean.doggo =='None')]"
   ]
  },
  {
   "cell_type": "code",
   "execution_count": 154,
   "metadata": {},
   "outputs": [
    {
     "data": {
      "text/plain": [
       "40"
      ]
     },
     "execution_count": 154,
     "metadata": {},
     "output_type": "execute_result"
    }
   ],
   "source": [
    "arch_txt=arch_txt[arch_txt.text.str.contains(\"doggo|pupper|puppo|floofer|floofs\")]\n",
    "arch_txt.text.str.contains(\"doggo|pupper|puppo|floofer|floofs\").sum()"
   ]
  },
  {
   "cell_type": "markdown",
   "metadata": {},
   "source": [
    "There are 40 records with information about stage in the text while the stage is not recorded in the stages columns."
   ]
  },
  {
   "cell_type": "code",
   "execution_count": 155,
   "metadata": {},
   "outputs": [],
   "source": [
    "arch2=archive_clean.copy()"
   ]
  },
  {
   "cell_type": "code",
   "execution_count": 156,
   "metadata": {},
   "outputs": [],
   "source": [
    "for t in arch_txt.text:\n",
    "    j = arch_txt[arch_txt.text==t].index[0]\n",
    "    if 'doggo' in t:\n",
    "        arch2.loc[j,'doggo']='doggo'\n",
    "    elif 'floof' in t:\n",
    "        arch2.loc[j,'floofer']='floofer'\n",
    "    elif 'puppo' in t:\n",
    "        arch2.loc[j,'puppo']='puppo'\n",
    "    elif 'pupper' in t:\n",
    "        arch2.loc[j,'pupper']='pupper'"
   ]
  },
  {
   "cell_type": "code",
   "execution_count": 157,
   "metadata": {},
   "outputs": [
    {
     "data": {
      "text/plain": [
       "1789"
      ]
     },
     "execution_count": 157,
     "metadata": {},
     "output_type": "execute_result"
    }
   ],
   "source": [
    "((arch2.floofer =='None') & (arch2.puppo =='None') &\n",
    " (arch2.pupper =='None') & (arch2.doggo =='None')).sum()"
   ]
  },
  {
   "cell_type": "markdown",
   "metadata": {},
   "source": [
    "Now to convert all the stages to a single column, we convert the none to 0 and the rest to 1"
   ]
  },
  {
   "cell_type": "code",
   "execution_count": 158,
   "metadata": {},
   "outputs": [],
   "source": [
    "arch2.doggo = arch2.doggo.replace('None', 0)\n",
    "arch2.doggo = arch2.doggo.replace('doggo', 1)\n",
    "arch2.floofer = arch2.floofer.replace('None', 0)\n",
    "arch2.floofer = arch2.floofer.replace('floofer', 1)\n",
    "arch2.pupper = arch2.pupper.replace('None', 0)\n",
    "arch2.pupper = arch2.pupper.replace('pupper', 1)\n",
    "arch2.puppo = arch2.puppo.replace('None', 0)\n",
    "arch2.puppo = arch2.puppo.replace('puppo', 1)"
   ]
  },
  {
   "cell_type": "markdown",
   "metadata": {},
   "source": [
    "We need to add a column 'None' for records without stage"
   ]
  },
  {
   "cell_type": "code",
   "execution_count": 159,
   "metadata": {},
   "outputs": [],
   "source": [
    "arch2['none'] = 1-(arch2.doggo+arch2.floofer+arch2.pupper+arch2.puppo)"
   ]
  },
  {
   "cell_type": "markdown",
   "metadata": {},
   "source": [
    "there are 13 tweets with multiple stages whcih can be found with -1 value in none column, so we can separate them in another column before melting all stages to single column"
   ]
  },
  {
   "cell_type": "code",
   "execution_count": 160,
   "metadata": {
    "scrolled": true
   },
   "outputs": [],
   "source": [
    "arch2['multi_stage']= 0\n",
    "multi_ind=arch2[arch2.none == -1].index\n",
    "for ii in multi_ind:\n",
    "    arch2.loc[ii,'multi_stage']= 1\n",
    "    arch2.loc[ii,'doggo':'none']= 0    "
   ]
  },
  {
   "cell_type": "code",
   "execution_count": 161,
   "metadata": {},
   "outputs": [],
   "source": [
    "vals = ['doggo', 'floofer', 'pupper', 'puppo','none','multi_stage']\n",
    "ids=['tweet_id','timestamp','source','text','expanded_urls','rating_from_10','name']\n",
    "arch2=pd.melt(arch2,id_vars=ids,value_vars=vals,var_name='stage')"
   ]
  },
  {
   "cell_type": "code",
   "execution_count": 162,
   "metadata": {},
   "outputs": [],
   "source": [
    "arch2=arch2[arch2.value == 1]\n",
    "# archive_clean.head()"
   ]
  },
  {
   "cell_type": "code",
   "execution_count": 163,
   "metadata": {},
   "outputs": [],
   "source": [
    "arch2.drop('value',axis=1,inplace=True)"
   ]
  },
  {
   "cell_type": "code",
   "execution_count": 164,
   "metadata": {},
   "outputs": [
    {
     "data": {
      "text/plain": [
       "0"
      ]
     },
     "execution_count": 164,
     "metadata": {},
     "output_type": "execute_result"
    }
   ],
   "source": [
    "arch2.tweet_id.duplicated().sum()"
   ]
  },
  {
   "cell_type": "markdown",
   "metadata": {},
   "source": [
    "#### Test"
   ]
  },
  {
   "cell_type": "code",
   "execution_count": 165,
   "metadata": {
    "scrolled": true
   },
   "outputs": [
    {
     "data": {
      "text/plain": [
       "(2173, 8)"
      ]
     },
     "execution_count": 165,
     "metadata": {},
     "output_type": "execute_result"
    }
   ],
   "source": [
    "arch2.shape"
   ]
  },
  {
   "cell_type": "code",
   "execution_count": 166,
   "metadata": {
    "scrolled": true
   },
   "outputs": [
    {
     "name": "stdout",
     "output_type": "stream",
     "text": [
      "<class 'pandas.core.frame.DataFrame'>\n",
      "Int64Index: 2173 entries, 9 to 11798\n",
      "Data columns (total 8 columns):\n",
      "tweet_id          2173 non-null int64\n",
      "timestamp         2173 non-null datetime64[ns]\n",
      "source            2173 non-null object\n",
      "text              2173 non-null object\n",
      "expanded_urls     2116 non-null object\n",
      "rating_from_10    2173 non-null int64\n",
      "name              2173 non-null object\n",
      "stage             2173 non-null object\n",
      "dtypes: datetime64[ns](1), int64(2), object(5)\n",
      "memory usage: 152.8+ KB\n"
     ]
    }
   ],
   "source": [
    "arch2.info()"
   ]
  },
  {
   "cell_type": "code",
   "execution_count": 184,
   "metadata": {},
   "outputs": [],
   "source": [
    "archive_clean=arch2.copy()"
   ]
  },
  {
   "cell_type": "markdown",
   "metadata": {},
   "source": [
    "<span style=\"color:Red; font-size: 1.5em\"> issue Q12 <a id='Q12'></a>\n",
    "    \n",
    "#### Define\n",
    "Rearrange columns in a better way\n",
    "#### Code"
   ]
  },
  {
   "cell_type": "markdown",
   "metadata": {},
   "source": [
    "#### Test"
   ]
  },
  {
   "cell_type": "code",
   "execution_count": 77,
   "metadata": {},
   "outputs": [
    {
     "data": {
      "text/plain": [
       "1    1779\n",
       "2     197\n",
       "3      66\n",
       "4      31\n",
       "Name: img_num, dtype: int64"
      ]
     },
     "execution_count": 77,
     "metadata": {},
     "output_type": "execute_result"
    }
   ],
   "source": [
    "images_clean.img_num.value_counts()"
   ]
  },
  {
   "cell_type": "code",
   "execution_count": 185,
   "metadata": {},
   "outputs": [],
   "source": [
    "images_clean.drop('img_num', axis=1, inplace=True)"
   ]
  },
  {
   "cell_type": "code",
   "execution_count": 186,
   "metadata": {},
   "outputs": [
    {
     "data": {
      "text/html": [
       "<div>\n",
       "<style scoped>\n",
       "    .dataframe tbody tr th:only-of-type {\n",
       "        vertical-align: middle;\n",
       "    }\n",
       "\n",
       "    .dataframe tbody tr th {\n",
       "        vertical-align: top;\n",
       "    }\n",
       "\n",
       "    .dataframe thead th {\n",
       "        text-align: right;\n",
       "    }\n",
       "</style>\n",
       "<table border=\"1\" class=\"dataframe\">\n",
       "  <thead>\n",
       "    <tr style=\"text-align: right;\">\n",
       "      <th></th>\n",
       "      <th>tweet_id</th>\n",
       "      <th>jpg_url</th>\n",
       "      <th>prediction_1</th>\n",
       "      <th>p1_confidence</th>\n",
       "      <th>p1_dog</th>\n",
       "      <th>prediction_2</th>\n",
       "      <th>p2_confidence</th>\n",
       "      <th>p2_dog</th>\n",
       "      <th>prediction_3</th>\n",
       "      <th>p3_confidence</th>\n",
       "      <th>p3_dog</th>\n",
       "    </tr>\n",
       "  </thead>\n",
       "  <tbody>\n",
       "    <tr>\n",
       "      <th>0</th>\n",
       "      <td>666020888022790149</td>\n",
       "      <td>https://pbs.twimg.com/media/CT4udn0WwAA0aMy.jpg</td>\n",
       "      <td>Welsh_springer_spaniel</td>\n",
       "      <td>0.465074</td>\n",
       "      <td>True</td>\n",
       "      <td>collie</td>\n",
       "      <td>0.156665</td>\n",
       "      <td>True</td>\n",
       "      <td>Shetland_sheepdog</td>\n",
       "      <td>0.061428</td>\n",
       "      <td>True</td>\n",
       "    </tr>\n",
       "    <tr>\n",
       "      <th>1</th>\n",
       "      <td>666029285002620928</td>\n",
       "      <td>https://pbs.twimg.com/media/CT42GRgUYAA5iDo.jpg</td>\n",
       "      <td>redbone</td>\n",
       "      <td>0.506826</td>\n",
       "      <td>True</td>\n",
       "      <td>miniature_pinscher</td>\n",
       "      <td>0.074192</td>\n",
       "      <td>True</td>\n",
       "      <td>Rhodesian_ridgeback</td>\n",
       "      <td>0.072010</td>\n",
       "      <td>True</td>\n",
       "    </tr>\n",
       "    <tr>\n",
       "      <th>2</th>\n",
       "      <td>666033412701032449</td>\n",
       "      <td>https://pbs.twimg.com/media/CT4521TWwAEvMyu.jpg</td>\n",
       "      <td>German_shepherd</td>\n",
       "      <td>0.596461</td>\n",
       "      <td>True</td>\n",
       "      <td>malinois</td>\n",
       "      <td>0.138584</td>\n",
       "      <td>True</td>\n",
       "      <td>bloodhound</td>\n",
       "      <td>0.116197</td>\n",
       "      <td>True</td>\n",
       "    </tr>\n",
       "    <tr>\n",
       "      <th>3</th>\n",
       "      <td>666044226329800704</td>\n",
       "      <td>https://pbs.twimg.com/media/CT5Dr8HUEAA-lEu.jpg</td>\n",
       "      <td>Rhodesian_ridgeback</td>\n",
       "      <td>0.408143</td>\n",
       "      <td>True</td>\n",
       "      <td>redbone</td>\n",
       "      <td>0.360687</td>\n",
       "      <td>True</td>\n",
       "      <td>miniature_pinscher</td>\n",
       "      <td>0.222752</td>\n",
       "      <td>True</td>\n",
       "    </tr>\n",
       "    <tr>\n",
       "      <th>4</th>\n",
       "      <td>666049248165822465</td>\n",
       "      <td>https://pbs.twimg.com/media/CT5IQmsXIAAKY4A.jpg</td>\n",
       "      <td>miniature_pinscher</td>\n",
       "      <td>0.560311</td>\n",
       "      <td>True</td>\n",
       "      <td>Rottweiler</td>\n",
       "      <td>0.243682</td>\n",
       "      <td>True</td>\n",
       "      <td>Doberman</td>\n",
       "      <td>0.154629</td>\n",
       "      <td>True</td>\n",
       "    </tr>\n",
       "  </tbody>\n",
       "</table>\n",
       "</div>"
      ],
      "text/plain": [
       "             tweet_id                                          jpg_url  \\\n",
       "0  666020888022790149  https://pbs.twimg.com/media/CT4udn0WwAA0aMy.jpg   \n",
       "1  666029285002620928  https://pbs.twimg.com/media/CT42GRgUYAA5iDo.jpg   \n",
       "2  666033412701032449  https://pbs.twimg.com/media/CT4521TWwAEvMyu.jpg   \n",
       "3  666044226329800704  https://pbs.twimg.com/media/CT5Dr8HUEAA-lEu.jpg   \n",
       "4  666049248165822465  https://pbs.twimg.com/media/CT5IQmsXIAAKY4A.jpg   \n",
       "\n",
       "             prediction_1  p1_confidence  p1_dog        prediction_2  \\\n",
       "0  Welsh_springer_spaniel       0.465074    True              collie   \n",
       "1                 redbone       0.506826    True  miniature_pinscher   \n",
       "2         German_shepherd       0.596461    True            malinois   \n",
       "3     Rhodesian_ridgeback       0.408143    True             redbone   \n",
       "4      miniature_pinscher       0.560311    True          Rottweiler   \n",
       "\n",
       "   p2_confidence  p2_dog         prediction_3  p3_confidence  p3_dog  \n",
       "0       0.156665    True    Shetland_sheepdog       0.061428    True  \n",
       "1       0.074192    True  Rhodesian_ridgeback       0.072010    True  \n",
       "2       0.138584    True           bloodhound       0.116197    True  \n",
       "3       0.360687    True   miniature_pinscher       0.222752    True  \n",
       "4       0.243682    True             Doberman       0.154629    True  "
      ]
     },
     "execution_count": 186,
     "metadata": {},
     "output_type": "execute_result"
    }
   ],
   "source": [
    "images_clean.head()"
   ]
  },
  {
   "cell_type": "markdown",
   "metadata": {},
   "source": [
    "In this particular project we do not use the second and third predictions in the analysis. So we can drop them for ease of work."
   ]
  },
  {
   "cell_type": "code",
   "execution_count": 187,
   "metadata": {},
   "outputs": [],
   "source": [
    "cols2 = ['tweet_id','prediction_1','p1_confidence','p1_dog','jpg_url']"
   ]
  },
  {
   "cell_type": "code",
   "execution_count": 201,
   "metadata": {},
   "outputs": [],
   "source": [
    "images_clean = images_clean[cols2]"
   ]
  },
  {
   "cell_type": "code",
   "execution_count": 202,
   "metadata": {},
   "outputs": [],
   "source": [
    "images_clean=image_clean.rename(columns={'prediction_1':'breed','p1_confidence':'confidence','p1_dog':'dog'})"
   ]
  },
  {
   "cell_type": "code",
   "execution_count": 203,
   "metadata": {
    "scrolled": true
   },
   "outputs": [
    {
     "data": {
      "text/html": [
       "<div>\n",
       "<style scoped>\n",
       "    .dataframe tbody tr th:only-of-type {\n",
       "        vertical-align: middle;\n",
       "    }\n",
       "\n",
       "    .dataframe tbody tr th {\n",
       "        vertical-align: top;\n",
       "    }\n",
       "\n",
       "    .dataframe thead th {\n",
       "        text-align: right;\n",
       "    }\n",
       "</style>\n",
       "<table border=\"1\" class=\"dataframe\">\n",
       "  <thead>\n",
       "    <tr style=\"text-align: right;\">\n",
       "      <th></th>\n",
       "      <th>tweet_id</th>\n",
       "      <th>breed</th>\n",
       "      <th>confidence</th>\n",
       "      <th>dog</th>\n",
       "      <th>jpg_url</th>\n",
       "    </tr>\n",
       "  </thead>\n",
       "  <tbody>\n",
       "    <tr>\n",
       "      <th>0</th>\n",
       "      <td>666020888022790149</td>\n",
       "      <td>Welsh_springer_spaniel</td>\n",
       "      <td>0.465074</td>\n",
       "      <td>True</td>\n",
       "      <td>https://pbs.twimg.com/media/CT4udn0WwAA0aMy.jpg</td>\n",
       "    </tr>\n",
       "  </tbody>\n",
       "</table>\n",
       "</div>"
      ],
      "text/plain": [
       "             tweet_id                   breed  confidence   dog  \\\n",
       "0  666020888022790149  Welsh_springer_spaniel    0.465074  True   \n",
       "\n",
       "                                           jpg_url  \n",
       "0  https://pbs.twimg.com/media/CT4udn0WwAA0aMy.jpg  "
      ]
     },
     "execution_count": 203,
     "metadata": {},
     "output_type": "execute_result"
    }
   ],
   "source": [
    "images_clean.head(1)"
   ]
  },
  {
   "cell_type": "raw",
   "metadata": {},
   "source": []
  },
  {
   "cell_type": "markdown",
   "metadata": {},
   "source": [
    "<a id='T2'></a>\n",
    "<span style=\"color:Red; font-size: 1.5em\"> issue Q2, Q6, T2 <a id='Q2'></a> <a id='Q6'></a>\n",
    "    \n",
    "#### Define\n",
    "We can merge all the dataframes into a single dataframe to solve the issues. So first we find the smallest dataframe and merge all based on tweet ids.\n",
    "#### Code"
   ]
  },
  {
   "cell_type": "code",
   "execution_count": 200,
   "metadata": {},
   "outputs": [
    {
     "data": {
      "text/plain": [
       "(2173, 2075, 2354)"
      ]
     },
     "execution_count": 200,
     "metadata": {},
     "output_type": "execute_result"
    }
   ],
   "source": [
    "archive_clean.shape[0],images_clean.shape[0],jsons_clean.shape[0]"
   ]
  },
  {
   "cell_type": "code",
   "execution_count": 194,
   "metadata": {},
   "outputs": [
    {
     "data": {
      "text/plain": [
       "2173"
      ]
     },
     "execution_count": 194,
     "metadata": {},
     "output_type": "execute_result"
    }
   ],
   "source": [
    "# main_ids=images.tweet_id.values\n",
    "archive_clean[archive_clean.tweet_id.isin(jsons_clean.tweet_id.values)].tweet_id.count()"
   ]
  },
  {
   "cell_type": "code",
   "execution_count": 195,
   "metadata": {},
   "outputs": [
    {
     "data": {
      "text/plain": [
       "1993"
      ]
     },
     "execution_count": 195,
     "metadata": {},
     "output_type": "execute_result"
    }
   ],
   "source": [
    "archive_clean[archive_clean.tweet_id.isin(images_clean.tweet_id.values)].tweet_id.count()"
   ]
  },
  {
   "cell_type": "code",
   "execution_count": 204,
   "metadata": {},
   "outputs": [],
   "source": [
    "two_in_one=pd.merge(archive_clean,images_clean,on='tweet_id')"
   ]
  },
  {
   "cell_type": "code",
   "execution_count": 205,
   "metadata": {},
   "outputs": [],
   "source": [
    "all_in_one=pd.merge(two_in_one,jsons_clean,on='tweet_id')"
   ]
  },
  {
   "cell_type": "markdown",
   "metadata": {},
   "source": [
    "We can drop url column as well as it does not provide any useful info."
   ]
  },
  {
   "cell_type": "code",
   "execution_count": 206,
   "metadata": {},
   "outputs": [],
   "source": [
    "all_in_one.drop('expanded_urls',axis=1,inplace=True)"
   ]
  },
  {
   "cell_type": "markdown",
   "metadata": {},
   "source": [
    "#### Test"
   ]
  },
  {
   "cell_type": "code",
   "execution_count": 207,
   "metadata": {
    "scrolled": true
   },
   "outputs": [
    {
     "name": "stdout",
     "output_type": "stream",
     "text": [
      "<class 'pandas.core.frame.DataFrame'>\n",
      "Int64Index: 1993 entries, 0 to 1992\n",
      "Data columns (total 13 columns):\n",
      "tweet_id          1993 non-null int64\n",
      "timestamp         1993 non-null datetime64[ns]\n",
      "source            1993 non-null object\n",
      "text              1993 non-null object\n",
      "rating_from_10    1993 non-null int64\n",
      "name              1993 non-null object\n",
      "stage             1993 non-null object\n",
      "breed             1993 non-null object\n",
      "confidence        1993 non-null float64\n",
      "dog               1993 non-null bool\n",
      "jpg_url           1993 non-null object\n",
      "retweet_count     1993 non-null int64\n",
      "favorite_count    1993 non-null int64\n",
      "dtypes: bool(1), datetime64[ns](1), float64(1), int64(4), object(6)\n",
      "memory usage: 204.4+ KB\n"
     ]
    }
   ],
   "source": [
    "all_in_one.info()"
   ]
  },
  {
   "cell_type": "code",
   "execution_count": 208,
   "metadata": {},
   "outputs": [],
   "source": [
    "cols = ['tweet_id','name','stage','breed','confidence','dog','rating_from_10', 'retweet_count', 'favorite_count','source','jpg_url','text','timestamp']\n",
    "all_in_one = all_in_one[cols]"
   ]
  },
  {
   "cell_type": "markdown",
   "metadata": {},
   "source": [
    "Combine all the dataframe into one master dataframe:"
   ]
  },
  {
   "cell_type": "code",
   "execution_count": 209,
   "metadata": {},
   "outputs": [
    {
     "data": {
      "text/plain": [
       "(1993, 13)"
      ]
     },
     "execution_count": 209,
     "metadata": {},
     "output_type": "execute_result"
    }
   ],
   "source": [
    "all_in_one.shape"
   ]
  },
  {
   "cell_type": "code",
   "execution_count": 233,
   "metadata": {},
   "outputs": [],
   "source": [
    "all_in_one=all_in_one.reset_index().drop('index',axis=1)"
   ]
  },
  {
   "cell_type": "code",
   "execution_count": 235,
   "metadata": {},
   "outputs": [],
   "source": [
    "# all_in_one.head()"
   ]
  },
  {
   "cell_type": "code",
   "execution_count": 210,
   "metadata": {},
   "outputs": [],
   "source": [
    "all_in_one.tweet_id= all_in_one.tweet_id.astype(str)"
   ]
  },
  {
   "cell_type": "code",
   "execution_count": 236,
   "metadata": {},
   "outputs": [],
   "source": [
    "twitter_archive_master=all_in_one.copy()"
   ]
  },
  {
   "cell_type": "markdown",
   "metadata": {},
   "source": [
    "//////////////////////////////////////////////////////////////////////////////////////////////////////////////////////////////////////////////////////////////////////////////////////////////////////////////////////////////////////////////////////////////\n",
    "<a id='store'></a>\n",
    "## Store\n",
    "Store the final dataframe into SQLite"
   ]
  },
  {
   "cell_type": "code",
   "execution_count": 237,
   "metadata": {},
   "outputs": [],
   "source": [
    "from sqlalchemy import create_engine\n",
    "\n",
    "engine = create_engine('sqlite:///weratedogs.db')\n",
    "twitter_archive_master.to_sql('tweet', engine, index=False)"
   ]
  },
  {
   "cell_type": "markdown",
   "metadata": {},
   "source": [
    "Store the final dataframe into csv file"
   ]
  },
  {
   "cell_type": "code",
   "execution_count": 238,
   "metadata": {},
   "outputs": [],
   "source": [
    "twitter_archive_master.to_csv('twitter_archive_master.csv')"
   ]
  },
  {
   "cell_type": "markdown",
   "metadata": {},
   "source": [
    "//////////////////////////////////////////////////////////////////////////////////////////////////////////////////////////////////////////////////////////////////////////////////////////////////////////////////////////////////////////////////////////////\n",
    "<a id='analyse'></a>\n",
    "## Analyse and Visulise\n",
    "The questions to be answered are as follows:\n",
    "- [Most common breed in predictions?](#breed)\n",
    "- [Most popular name?](#name)\n",
    "- [How do rating, favorite count and retweet count change over time?](#time)\n",
    "- [What is the most rated dog breed?](#rate)\n",
    "- [what are the most distinctive looking dog breeds?](#look)"
   ]
  },
  {
   "cell_type": "markdown",
   "metadata": {},
   "source": [
    "### Most common breed in predictions? <a id='breed'></a>\n"
   ]
  },
  {
   "cell_type": "code",
   "execution_count": 239,
   "metadata": {},
   "outputs": [],
   "source": [
    "tweet_analyse=twitter_archive_master.copy()"
   ]
  },
  {
   "cell_type": "code",
   "execution_count": 240,
   "metadata": {
    "scrolled": false
   },
   "outputs": [
    {
     "data": {
      "text/html": [
       "<div>\n",
       "<style scoped>\n",
       "    .dataframe tbody tr th:only-of-type {\n",
       "        vertical-align: middle;\n",
       "    }\n",
       "\n",
       "    .dataframe tbody tr th {\n",
       "        vertical-align: top;\n",
       "    }\n",
       "\n",
       "    .dataframe thead th {\n",
       "        text-align: right;\n",
       "    }\n",
       "</style>\n",
       "<table border=\"1\" class=\"dataframe\">\n",
       "  <thead>\n",
       "    <tr style=\"text-align: right;\">\n",
       "      <th></th>\n",
       "      <th>tweet_id</th>\n",
       "      <th>name</th>\n",
       "      <th>stage</th>\n",
       "      <th>breed</th>\n",
       "      <th>confidence</th>\n",
       "      <th>dog</th>\n",
       "      <th>rating_from_10</th>\n",
       "      <th>retweet_count</th>\n",
       "      <th>favorite_count</th>\n",
       "      <th>source</th>\n",
       "      <th>jpg_url</th>\n",
       "      <th>text</th>\n",
       "      <th>timestamp</th>\n",
       "    </tr>\n",
       "  </thead>\n",
       "  <tbody>\n",
       "    <tr>\n",
       "      <th>0</th>\n",
       "      <td>890240255349198849</td>\n",
       "      <td>Cassie</td>\n",
       "      <td>doggo</td>\n",
       "      <td>Pembroke</td>\n",
       "      <td>0.511319</td>\n",
       "      <td>True</td>\n",
       "      <td>14</td>\n",
       "      <td>7711</td>\n",
       "      <td>32467</td>\n",
       "      <td>iPhone</td>\n",
       "      <td>https://pbs.twimg.com/media/DFrEyVuW0AAO3t9.jpg</td>\n",
       "      <td>This is Cassie. She is a college pup. Studying...</td>\n",
       "      <td>2017-07-26 15:59:51</td>\n",
       "    </tr>\n",
       "  </tbody>\n",
       "</table>\n",
       "</div>"
      ],
      "text/plain": [
       "             tweet_id    name  stage     breed  confidence   dog  \\\n",
       "0  890240255349198849  Cassie  doggo  Pembroke    0.511319  True   \n",
       "\n",
       "   rating_from_10  retweet_count  favorite_count  source  \\\n",
       "0              14           7711           32467  iPhone   \n",
       "\n",
       "                                           jpg_url  \\\n",
       "0  https://pbs.twimg.com/media/DFrEyVuW0AAO3t9.jpg   \n",
       "\n",
       "                                                text           timestamp  \n",
       "0  This is Cassie. She is a college pup. Studying... 2017-07-26 15:59:51  "
      ]
     },
     "execution_count": 240,
     "metadata": {},
     "output_type": "execute_result"
    }
   ],
   "source": [
    "tweet_analyse.head(1)"
   ]
  },
  {
   "cell_type": "code",
   "execution_count": 229,
   "metadata": {},
   "outputs": [],
   "source": [
    "# tweet_analyse[tweet_analyse.rating_from_10 > 20]"
   ]
  },
  {
   "cell_type": "code",
   "execution_count": 241,
   "metadata": {},
   "outputs": [
    {
     "data": {
      "text/html": [
       "<div>\n",
       "<style scoped>\n",
       "    .dataframe tbody tr th:only-of-type {\n",
       "        vertical-align: middle;\n",
       "    }\n",
       "\n",
       "    .dataframe tbody tr th {\n",
       "        vertical-align: top;\n",
       "    }\n",
       "\n",
       "    .dataframe thead th {\n",
       "        text-align: right;\n",
       "    }\n",
       "</style>\n",
       "<table border=\"1\" class=\"dataframe\">\n",
       "  <thead>\n",
       "    <tr style=\"text-align: right;\">\n",
       "      <th></th>\n",
       "      <th>confidence</th>\n",
       "      <th>rating_from_10</th>\n",
       "      <th>retweet_count</th>\n",
       "      <th>favorite_count</th>\n",
       "    </tr>\n",
       "  </thead>\n",
       "  <tbody>\n",
       "    <tr>\n",
       "      <th>count</th>\n",
       "      <td>1993.000000</td>\n",
       "      <td>1993.000000</td>\n",
       "      <td>1993.000000</td>\n",
       "      <td>1993.000000</td>\n",
       "    </tr>\n",
       "    <tr>\n",
       "      <th>mean</th>\n",
       "      <td>0.593802</td>\n",
       "      <td>11.686402</td>\n",
       "      <td>2767.311089</td>\n",
       "      <td>8897.215253</td>\n",
       "    </tr>\n",
       "    <tr>\n",
       "      <th>std</th>\n",
       "      <td>0.271951</td>\n",
       "      <td>40.677378</td>\n",
       "      <td>4675.805285</td>\n",
       "      <td>12216.077179</td>\n",
       "    </tr>\n",
       "    <tr>\n",
       "      <th>min</th>\n",
       "      <td>0.044333</td>\n",
       "      <td>0.000000</td>\n",
       "      <td>16.000000</td>\n",
       "      <td>81.000000</td>\n",
       "    </tr>\n",
       "    <tr>\n",
       "      <th>25%</th>\n",
       "      <td>0.362835</td>\n",
       "      <td>10.000000</td>\n",
       "      <td>624.000000</td>\n",
       "      <td>1981.000000</td>\n",
       "    </tr>\n",
       "    <tr>\n",
       "      <th>50%</th>\n",
       "      <td>0.587507</td>\n",
       "      <td>11.000000</td>\n",
       "      <td>1359.000000</td>\n",
       "      <td>4134.000000</td>\n",
       "    </tr>\n",
       "    <tr>\n",
       "      <th>75%</th>\n",
       "      <td>0.845256</td>\n",
       "      <td>12.000000</td>\n",
       "      <td>3220.000000</td>\n",
       "      <td>11310.000000</td>\n",
       "    </tr>\n",
       "    <tr>\n",
       "      <th>max</th>\n",
       "      <td>1.000000</td>\n",
       "      <td>1776.000000</td>\n",
       "      <td>79515.000000</td>\n",
       "      <td>132810.000000</td>\n",
       "    </tr>\n",
       "  </tbody>\n",
       "</table>\n",
       "</div>"
      ],
      "text/plain": [
       "        confidence  rating_from_10  retweet_count  favorite_count\n",
       "count  1993.000000     1993.000000    1993.000000     1993.000000\n",
       "mean      0.593802       11.686402    2767.311089     8897.215253\n",
       "std       0.271951       40.677378    4675.805285    12216.077179\n",
       "min       0.044333        0.000000      16.000000       81.000000\n",
       "25%       0.362835       10.000000     624.000000     1981.000000\n",
       "50%       0.587507       11.000000    1359.000000     4134.000000\n",
       "75%       0.845256       12.000000    3220.000000    11310.000000\n",
       "max       1.000000     1776.000000   79515.000000   132810.000000"
      ]
     },
     "execution_count": 241,
     "metadata": {},
     "output_type": "execute_result"
    }
   ],
   "source": [
    "tweet_analyse.describe()"
   ]
  },
  {
   "cell_type": "code",
   "execution_count": 242,
   "metadata": {},
   "outputs": [],
   "source": [
    "dogs=tweet_analyse[tweet_analyse.dog==True]\n",
    "conf_dog=dogs[dogs.confidence > 0.4]"
   ]
  },
  {
   "cell_type": "markdown",
   "metadata": {},
   "source": [
    "As we considered the predictions with confidence of 0.4 and more, we should check the image for some to see if they are dog or not. So we check around confidence 0.4"
   ]
  },
  {
   "cell_type": "code",
   "execution_count": 243,
   "metadata": {},
   "outputs": [],
   "source": [
    "from IPython.display import Image\n",
    "from IPython.core.display import HTML"
   ]
  },
  {
   "cell_type": "code",
   "execution_count": 244,
   "metadata": {},
   "outputs": [
    {
     "name": "stdout",
     "output_type": "stream",
     "text": [
      "Breed: Samoyed with confidence of: 0.401\n"
     ]
    },
    {
     "data": {
      "text/html": [
       "<img src=\"https://pbs.twimg.com/media/CjvvHBwUoAE55WZ.jpg\"/>"
      ],
      "text/plain": [
       "<IPython.core.display.Image object>"
      ]
     },
     "execution_count": 244,
     "metadata": {},
     "output_type": "execute_result"
    }
   ],
   "source": [
    "urls= tweet_analyse[(tweet_analyse.confidence > 0.4) & (tweet_analyse.confidence < 0.43)]\n",
    "i=1\n",
    "print('Breed: '+urls.breed.values[i]+' with confidence of: '+str(round(urls.confidence.values[i],3)))\n",
    "Image(url=urls.jpg_url.values[i])"
   ]
  },
  {
   "cell_type": "markdown",
   "metadata": {},
   "source": [
    "After checking 20 of images all of them was found to be correct dog."
   ]
  },
  {
   "cell_type": "code",
   "execution_count": 245,
   "metadata": {},
   "outputs": [
    {
     "data": {
      "text/plain": [
       "golden_retriever      120\n",
       "Pembroke               80\n",
       "Labrador_retriever     78\n",
       "Chihuahua              55\n",
       "pug                    47\n",
       "Samoyed                35\n",
       "Pomeranian             34\n",
       "toy_poodle             30\n",
       "chow                   28\n",
       "French_bulldog         23\n",
       "Name: breed, dtype: int64"
      ]
     },
     "execution_count": 245,
     "metadata": {},
     "output_type": "execute_result"
    }
   ],
   "source": [
    "conf_dog.breed.value_counts()[:10]"
   ]
  },
  {
   "cell_type": "code",
   "execution_count": 223,
   "metadata": {},
   "outputs": [
    {
     "data": {
      "image/png": "[encoded data removed]",
      "text/plain": [
       "<Figure size 720x576 with 1 Axes>"
      ]
     },
     "metadata": {},
     "output_type": "display_data"
    }
   ],
   "source": [
    "com_breed=conf_dog.breed.value_counts()\n",
    "\n",
    "sns.set_style('darkgrid')\n",
    "fig, ax = plt.subplots(1, 1, figsize=(10, 8))\n",
    "\n",
    "x=com_breed.index[:10]\n",
    "y=com_breed.values[:10]\n",
    "\n",
    "plt.bar(range(len(x)), y);\n",
    "\n",
    "label = x;\n",
    "\n",
    "plt.xticks(range(len(x)), label);\n",
    "\n",
    "plt.xticks(fontsize=13, rotation=90);\n",
    "plt.yticks(fontsize=13)\n",
    "plt.title('Most common tweeted dog breeds in WeRateDogs', fontsize=15)\n",
    "plt.ylabel('Tweet count', fontsize=15);\n",
    "plt.xlabel('Breed', fontsize=15);"
   ]
  },
  {
   "cell_type": "markdown",
   "metadata": {},
   "source": [
    "It is seen that Golden Retrievers are the most popular breed, followed by Pembrokes and Labrador Retrievers."
   ]
  },
  {
   "cell_type": "markdown",
   "metadata": {},
   "source": [
    "### Most popular name? <a id='name'></a>"
   ]
  },
  {
   "cell_type": "code",
   "execution_count": 224,
   "metadata": {},
   "outputs": [
    {
     "data": {
      "text/plain": [
       "Charlie    10\n",
       "Cooper     10\n",
       "Oliver      9\n",
       "Lucy        8\n",
       "Tucker      8\n",
       "Penny       7\n",
       "Sadie       7\n",
       "Daisy       7\n",
       "Winston     6\n",
       "Jax         6\n",
       "Name: name, dtype: int64"
      ]
     },
     "execution_count": 224,
     "metadata": {},
     "output_type": "execute_result"
    }
   ],
   "source": [
    "dogs[~dogs.name.isin(['a','None'])].name.value_counts()[:10]"
   ]
  },
  {
   "cell_type": "markdown",
   "metadata": {},
   "source": [
    "So Charlie and Cooper are the most favorite names."
   ]
  },
  {
   "cell_type": "markdown",
   "metadata": {},
   "source": [
    "### How do rating, favorite count and retweet count change over time?\n",
    "First we should remove extreme values using quantiles."
   ]
  },
  {
   "cell_type": "code",
   "execution_count": 249,
   "metadata": {},
   "outputs": [],
   "source": [
    "qf = dogs.favorite_count.quantile([0.05, 0.95])\n",
    "qr = dogs.retweet_count.quantile([0.05, 0.95])\n",
    "\n",
    "rating=dogs.drop(dogs[dogs.rating_from_10 > 20].index)\n",
    "\n",
    "favorite=dogs.drop(dogs[dogs.favorite_count < qf[0.05]].index)\n",
    "favorite=favorite.drop(dogs[dogs.favorite_count > qf[0.95]].index)\n",
    "\n",
    "retweet=dogs.drop(dogs[dogs.retweet_count < qr[0.05]].index)\n",
    "retweet=retweet.drop(dogs[dogs.retweet_count > qr[0.95]].index)"
   ]
  },
  {
   "cell_type": "code",
   "execution_count": 250,
   "metadata": {},
   "outputs": [
    {
     "data": {
      "image/png": "[encoded data removed]",
      "text/plain": [
       "<Figure size 720x576 with 1 Axes>"
      ]
     },
     "metadata": {},
     "output_type": "display_data"
    }
   ],
   "source": [
    "fig, ax = plt.subplots(1, 1, figsize=(10, 8))\n",
    "\n",
    "x = rating.timestamp.values\n",
    "y = rating.rating_from_10.values\n",
    "\n",
    "plt.plot_date(x, y)\n",
    "\n",
    "plt.xticks(fontsize=13, rotation=90);\n",
    "plt.yticks(fontsize=13)\n",
    "plt.title('Change of Ratings over time', fontsize=15)\n",
    "plt.ylabel('Rating', fontsize=15);\n",
    "# plt.xlabel('Time', fontsize=15);"
   ]
  },
  {
   "cell_type": "markdown",
   "metadata": {},
   "source": [
    "It is obvious that the ratings have increase over time as for example since 2016-09 most ratings are higher than 9."
   ]
  },
  {
   "cell_type": "code",
   "execution_count": 251,
   "metadata": {},
   "outputs": [
    {
     "data": {
      "image/png": "[encoded data removed]",
      "text/plain": [
       "<Figure size 720x576 with 1 Axes>"
      ]
     },
     "metadata": {},
     "output_type": "display_data"
    }
   ],
   "source": [
    "fig, ax = plt.subplots(1, 1, figsize=(10, 8))\n",
    "\n",
    "x = favorite.timestamp.values\n",
    "y = favorite.favorite_count.values\n",
    "\n",
    "plt.plot_date(x, y)\n",
    "\n",
    "plt.xticks(fontsize=13, rotation=90);\n",
    "plt.yticks(fontsize=13)\n",
    "plt.title('Change of favorite count over time', fontsize=15)\n",
    "plt.ylabel('Favorite Count', fontsize=15);\n",
    "# plt.xlabel('Time', fontsize=15);"
   ]
  },
  {
   "cell_type": "markdown",
   "metadata": {},
   "source": [
    "The number of times an @dog_rates tweet is favorited has increased over time."
   ]
  },
  {
   "cell_type": "code",
   "execution_count": 252,
   "metadata": {
    "scrolled": false
   },
   "outputs": [
    {
     "data": {
      "image/png": "[encoded data removed]",
      "text/plain": [
       "<Figure size 720x576 with 1 Axes>"
      ]
     },
     "metadata": {},
     "output_type": "display_data"
    }
   ],
   "source": [
    "fig, ax = plt.subplots(1, 1, figsize=(10, 8))\n",
    "\n",
    "x = retweet.timestamp.values\n",
    "y = retweet.retweet_count.values\n",
    "\n",
    "plt.plot_date(x, y)\n",
    "\n",
    "plt.xticks(fontsize=13, rotation=90);\n",
    "plt.yticks(fontsize=13)\n",
    "plt.title('Change of Retweet count over time', fontsize=15)\n",
    "plt.ylabel('Retweet Count', fontsize=15);\n",
    "# plt.xlabel('Time', fontsize=15);"
   ]
  },
  {
   "cell_type": "markdown",
   "metadata": {},
   "source": [
    "An increase is also seen in number of retweets after the first tweet over time, which is though not as significant as favorite count."
   ]
  },
  {
   "cell_type": "markdown",
   "metadata": {},
   "source": [
    "### What is the most rated dog breed? <a id='rate'></a>\n",
    "The rating of the dogs for those with at least 10 tweets is compared"
   ]
  },
  {
   "cell_type": "code",
   "execution_count": 253,
   "metadata": {},
   "outputs": [],
   "source": [
    "cb=conf_dog.breed.value_counts()\n",
    "com_breed=[]\n",
    "j=0\n",
    "for ii in cb:\n",
    "    j+=1\n",
    "    if ii > 10:\n",
    "        com_breed.append(cb.index[j])"
   ]
  },
  {
   "cell_type": "code",
   "execution_count": 254,
   "metadata": {
    "scrolled": true
   },
   "outputs": [
    {
     "data": {
      "text/plain": [
       "breed\n",
       "Pomeranian        13.000000\n",
       "Eskimo_dog        12.083333\n",
       "Samoyed           11.742857\n",
       "chow              11.714286\n",
       "Cardigan          11.692308\n",
       "Great_Pyrenees    11.545455\n",
       "Pembroke          11.450000\n",
       "toy_poodle        11.333333\n",
       "cocker_spaniel    11.312500\n",
       "Siberian_husky    11.307692\n",
       "Name: rating_from_10, dtype: float64"
      ]
     },
     "execution_count": 254,
     "metadata": {},
     "output_type": "execute_result"
    }
   ],
   "source": [
    "# com_breed=conf_dog.breed.value_counts().index[:10]\n",
    "rates=conf_dog[conf_dog.breed.isin(com_breed)].groupby('breed').rating_from_10.mean().sort_values(ascending=False)\n",
    "rates[:10]"
   ]
  },
  {
   "cell_type": "markdown",
   "metadata": {},
   "source": [
    "Pomeranians are the most rated breed, followed by Eskimo_dogs and Samoyed. We can again visualise this:"
   ]
  },
  {
   "cell_type": "code",
   "execution_count": 255,
   "metadata": {},
   "outputs": [
    {
     "data": {
      "image/png": "[encoded data removed]",
      "text/plain": [
       "<Figure size 720x576 with 1 Axes>"
      ]
     },
     "metadata": {},
     "output_type": "display_data"
    }
   ],
   "source": [
    "fig, ax = plt.subplots(1, 1, figsize=(10, 8))\n",
    "\n",
    "x = rates.index[:10]\n",
    "y = rates.values[:10]\n",
    "\n",
    "plt.bar(range(len(x)), y);\n",
    "\n",
    "label = x;\n",
    "\n",
    "plt.xticks(range(len(x)), label);\n",
    "\n",
    "plt.xticks(fontsize=13, rotation=90);\n",
    "plt.yticks(fontsize=13)\n",
    "plt.title('Most rated dog breeds in WeRateDogs', fontsize=15)\n",
    "plt.ylabel('Rating from 10', fontsize=15);\n",
    "plt.xlabel('Breed', fontsize=15);"
   ]
  },
  {
   "cell_type": "markdown",
   "metadata": {},
   "source": [
    "### what are the most distinctive looking dog breeds?  <a id='look'></a>\n",
    "Again we check the confidence among those with more than 10 ratings"
   ]
  },
  {
   "cell_type": "code",
   "execution_count": 256,
   "metadata": {},
   "outputs": [
    {
     "data": {
      "text/plain": [
       "breed\n",
       "French_bulldog       0.829790\n",
       "pug                  0.826743\n",
       "Samoyed              0.813738\n",
       "Pomeranian           0.799130\n",
       "chow                 0.774743\n",
       "Shih-Tzu             0.763880\n",
       "Pembroke             0.760274\n",
       "Maltese_dog          0.754328\n",
       "Shetland_sheepdog    0.747350\n",
       "German_shepherd      0.741523\n",
       "Name: confidence, dtype: float64"
      ]
     },
     "execution_count": 256,
     "metadata": {},
     "output_type": "execute_result"
    }
   ],
   "source": [
    "dist=conf_dog[conf_dog.breed.isin(com_breed)].groupby('breed').confidence.mean().sort_values(ascending=False)\n",
    "dist[:10]"
   ]
  },
  {
   "cell_type": "markdown",
   "metadata": {},
   "source": [
    "French_bulldogs are the most distinctive looking breed to be identified from the image, followed by Pugs and samoyed."
   ]
  }
 ],
 "metadata": {
  "kernelspec": {
   "display_name": "Python 3",
   "language": "python",
   "name": "python3"
  },
  "language_info": {
   "codemirror_mode": {
    "name": "ipython",
    "version": 3
   },
   "file_extension": ".py",
   "mimetype": "text/x-python",
   "name": "python",
   "nbconvert_exporter": "python",
   "pygments_lexer": "ipython3",
   "version": "3.7.2"
  }
 },
 "nbformat": 4,
 "nbformat_minor": 2
}
